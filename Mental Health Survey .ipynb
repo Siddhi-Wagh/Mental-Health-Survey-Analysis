{
 "cells": [
  {
   "attachments": {},
   "cell_type": "markdown",
   "id": "033f75d0-36fd-45e5-b117-bce7f28cc3d2",
   "metadata": {},
   "source": [
    "## **Project Name**  - Mental Health in Tech Survey"
   ]
  },
  {
   "cell_type": "markdown",
   "id": "10e07b6e-d206-4988-a7f7-209dfef997c5",
   "metadata": {},
   "source": [
    "## **Project Type** - EDA"
   ]
  },
  {
   "cell_type": "markdown",
   "id": "ddc2a34f-7f3d-4f27-bed3-2309deac6733",
   "metadata": {},
   "source": [
    "## **Project By:** Siddhi Wagh"
   ]
  },
  {
   "attachments": {},
   "cell_type": "markdown",
   "id": "19c1f410-cd4e-4295-965b-adca43876fec",
   "metadata": {},
   "source": [
    "## **Project Summary**\n",
    "\n",
    "This project analyzes a mental health survey focused on workplace environments, with the goal of understanding how geographic location, remote work, and employer practices influence mental health awareness, treatment-seeking behavior, and perceived stigma. It measures attitudes towards mental health and frequency of mental health disorders in the tech workplace."
   ]
  },
  {
   "cell_type": "markdown",
   "id": "a593c6f5-fecb-40ef-8c2a-73d51afeae61",
   "metadata": {},
   "source": [
    "GitHub Link - https://github.com/Siddhi-Wagh/Mental-Health-Survey-Analysis"
   ]
  },
  {
   "cell_type": "markdown",
   "id": "f03de64e-8813-4cef-bf94-92285a219189",
   "metadata": {},
   "source": [
    "## **Problem Statement**\n",
    "\n",
    "There is a need to analyze the survey data on mental health in tech workplace. This project seeks to address how mental health issues and attitudes toward mental health in the workplace vary by geographic location, and how do organizational factors such as remote work, coworkers and employer support etc. impact employee behavior and perception."
   ]
  },
  {
   "cell_type": "markdown",
   "id": "8f119f32-2037-4153-9804-688cf7f6fb79",
   "metadata": {},
   "source": [
    "## ***1. Knowing the Data***"
   ]
  },
  {
   "cell_type": "code",
   "execution_count": 324,
   "id": "0fec5a29-02cc-4a2f-b73c-fb131dc88480",
   "metadata": {},
   "outputs": [],
   "source": [
    "# import python libraries"
   ]
  },
  {
   "cell_type": "code",
   "execution_count": 325,
   "id": "bed550dd-ead8-443b-9339-7c1ee6a45e31",
   "metadata": {},
   "outputs": [],
   "source": [
    "import numpy as np \n",
    "import pandas as pd \n",
    "import matplotlib.pyplot as plt # visualizing data\n",
    "import seaborn as sns"
   ]
  },
  {
   "cell_type": "markdown",
   "id": "6059d50f-828c-449e-b802-6626206e64f7",
   "metadata": {},
   "source": [
    "## Dataset Loading "
   ]
  },
  {
   "cell_type": "code",
   "execution_count": 326,
   "id": "18c0f0e7-fc0c-46f4-8356-cdf39609b8a8",
   "metadata": {},
   "outputs": [],
   "source": [
    "# importing csv file\n",
    "\n",
    "survey = pd.read_csv('survey.csv')"
   ]
  },
  {
   "cell_type": "markdown",
   "id": "f4863d7e-19bb-4ff6-b98e-28147e6e1a8c",
   "metadata": {},
   "source": [
    "## Dataset Rows & Columns count"
   ]
  },
  {
   "cell_type": "code",
   "execution_count": 327,
   "id": "708f68c7-ccb9-47ae-8096-1a82572820ab",
   "metadata": {},
   "outputs": [
    {
     "data": {
      "text/plain": [
       "(1259, 27)"
      ]
     },
     "execution_count": 327,
     "metadata": {},
     "output_type": "execute_result"
    }
   ],
   "source": [
    "survey.shape"
   ]
  },
  {
   "cell_type": "markdown",
   "id": "1f2a0771-d75d-4ad6-a488-310d6e65f114",
   "metadata": {},
   "source": [
    "## Dataset First View "
   ]
  },
  {
   "cell_type": "code",
   "execution_count": 328,
   "id": "3b86ee26-671a-4d65-9f2d-5e6731b73257",
   "metadata": {},
   "outputs": [
    {
     "data": {
      "text/html": [
       "<div>\n",
       "<style scoped>\n",
       "    .dataframe tbody tr th:only-of-type {\n",
       "        vertical-align: middle;\n",
       "    }\n",
       "\n",
       "    .dataframe tbody tr th {\n",
       "        vertical-align: top;\n",
       "    }\n",
       "\n",
       "    .dataframe thead th {\n",
       "        text-align: right;\n",
       "    }\n",
       "</style>\n",
       "<table border=\"1\" class=\"dataframe\">\n",
       "  <thead>\n",
       "    <tr style=\"text-align: right;\">\n",
       "      <th></th>\n",
       "      <th>Timestamp</th>\n",
       "      <th>Age</th>\n",
       "      <th>Gender</th>\n",
       "      <th>Country</th>\n",
       "      <th>state</th>\n",
       "      <th>self_employed</th>\n",
       "      <th>family_history</th>\n",
       "      <th>treatment</th>\n",
       "      <th>work_interfere</th>\n",
       "      <th>no_employees</th>\n",
       "      <th>...</th>\n",
       "      <th>leave</th>\n",
       "      <th>mental_health_consequence</th>\n",
       "      <th>phys_health_consequence</th>\n",
       "      <th>coworkers</th>\n",
       "      <th>supervisor</th>\n",
       "      <th>mental_health_interview</th>\n",
       "      <th>phys_health_interview</th>\n",
       "      <th>mental_vs_physical</th>\n",
       "      <th>obs_consequence</th>\n",
       "      <th>comments</th>\n",
       "    </tr>\n",
       "  </thead>\n",
       "  <tbody>\n",
       "    <tr>\n",
       "      <th>0</th>\n",
       "      <td>2014-08-27 11:29:31</td>\n",
       "      <td>37</td>\n",
       "      <td>Female</td>\n",
       "      <td>United States</td>\n",
       "      <td>IL</td>\n",
       "      <td>NaN</td>\n",
       "      <td>No</td>\n",
       "      <td>Yes</td>\n",
       "      <td>Often</td>\n",
       "      <td>6-25</td>\n",
       "      <td>...</td>\n",
       "      <td>Somewhat easy</td>\n",
       "      <td>No</td>\n",
       "      <td>No</td>\n",
       "      <td>Some of them</td>\n",
       "      <td>Yes</td>\n",
       "      <td>No</td>\n",
       "      <td>Maybe</td>\n",
       "      <td>Yes</td>\n",
       "      <td>No</td>\n",
       "      <td>NaN</td>\n",
       "    </tr>\n",
       "    <tr>\n",
       "      <th>1</th>\n",
       "      <td>2014-08-27 11:29:37</td>\n",
       "      <td>44</td>\n",
       "      <td>M</td>\n",
       "      <td>United States</td>\n",
       "      <td>IN</td>\n",
       "      <td>NaN</td>\n",
       "      <td>No</td>\n",
       "      <td>No</td>\n",
       "      <td>Rarely</td>\n",
       "      <td>More than 1000</td>\n",
       "      <td>...</td>\n",
       "      <td>Don't know</td>\n",
       "      <td>Maybe</td>\n",
       "      <td>No</td>\n",
       "      <td>No</td>\n",
       "      <td>No</td>\n",
       "      <td>No</td>\n",
       "      <td>No</td>\n",
       "      <td>Don't know</td>\n",
       "      <td>No</td>\n",
       "      <td>NaN</td>\n",
       "    </tr>\n",
       "    <tr>\n",
       "      <th>2</th>\n",
       "      <td>2014-08-27 11:29:44</td>\n",
       "      <td>32</td>\n",
       "      <td>Male</td>\n",
       "      <td>Canada</td>\n",
       "      <td>NaN</td>\n",
       "      <td>NaN</td>\n",
       "      <td>No</td>\n",
       "      <td>No</td>\n",
       "      <td>Rarely</td>\n",
       "      <td>6-25</td>\n",
       "      <td>...</td>\n",
       "      <td>Somewhat difficult</td>\n",
       "      <td>No</td>\n",
       "      <td>No</td>\n",
       "      <td>Yes</td>\n",
       "      <td>Yes</td>\n",
       "      <td>Yes</td>\n",
       "      <td>Yes</td>\n",
       "      <td>No</td>\n",
       "      <td>No</td>\n",
       "      <td>NaN</td>\n",
       "    </tr>\n",
       "    <tr>\n",
       "      <th>3</th>\n",
       "      <td>2014-08-27 11:29:46</td>\n",
       "      <td>31</td>\n",
       "      <td>Male</td>\n",
       "      <td>United Kingdom</td>\n",
       "      <td>NaN</td>\n",
       "      <td>NaN</td>\n",
       "      <td>Yes</td>\n",
       "      <td>Yes</td>\n",
       "      <td>Often</td>\n",
       "      <td>26-100</td>\n",
       "      <td>...</td>\n",
       "      <td>Somewhat difficult</td>\n",
       "      <td>Yes</td>\n",
       "      <td>Yes</td>\n",
       "      <td>Some of them</td>\n",
       "      <td>No</td>\n",
       "      <td>Maybe</td>\n",
       "      <td>Maybe</td>\n",
       "      <td>No</td>\n",
       "      <td>Yes</td>\n",
       "      <td>NaN</td>\n",
       "    </tr>\n",
       "    <tr>\n",
       "      <th>4</th>\n",
       "      <td>2014-08-27 11:30:22</td>\n",
       "      <td>31</td>\n",
       "      <td>Male</td>\n",
       "      <td>United States</td>\n",
       "      <td>TX</td>\n",
       "      <td>NaN</td>\n",
       "      <td>No</td>\n",
       "      <td>No</td>\n",
       "      <td>Never</td>\n",
       "      <td>100-500</td>\n",
       "      <td>...</td>\n",
       "      <td>Don't know</td>\n",
       "      <td>No</td>\n",
       "      <td>No</td>\n",
       "      <td>Some of them</td>\n",
       "      <td>Yes</td>\n",
       "      <td>Yes</td>\n",
       "      <td>Yes</td>\n",
       "      <td>Don't know</td>\n",
       "      <td>No</td>\n",
       "      <td>NaN</td>\n",
       "    </tr>\n",
       "    <tr>\n",
       "      <th>5</th>\n",
       "      <td>2014-08-27 11:31:22</td>\n",
       "      <td>33</td>\n",
       "      <td>Male</td>\n",
       "      <td>United States</td>\n",
       "      <td>TN</td>\n",
       "      <td>NaN</td>\n",
       "      <td>Yes</td>\n",
       "      <td>No</td>\n",
       "      <td>Sometimes</td>\n",
       "      <td>6-25</td>\n",
       "      <td>...</td>\n",
       "      <td>Don't know</td>\n",
       "      <td>No</td>\n",
       "      <td>No</td>\n",
       "      <td>Yes</td>\n",
       "      <td>Yes</td>\n",
       "      <td>No</td>\n",
       "      <td>Maybe</td>\n",
       "      <td>Don't know</td>\n",
       "      <td>No</td>\n",
       "      <td>NaN</td>\n",
       "    </tr>\n",
       "    <tr>\n",
       "      <th>6</th>\n",
       "      <td>2014-08-27 11:31:50</td>\n",
       "      <td>35</td>\n",
       "      <td>Female</td>\n",
       "      <td>United States</td>\n",
       "      <td>MI</td>\n",
       "      <td>NaN</td>\n",
       "      <td>Yes</td>\n",
       "      <td>Yes</td>\n",
       "      <td>Sometimes</td>\n",
       "      <td>1-5</td>\n",
       "      <td>...</td>\n",
       "      <td>Somewhat difficult</td>\n",
       "      <td>Maybe</td>\n",
       "      <td>Maybe</td>\n",
       "      <td>Some of them</td>\n",
       "      <td>No</td>\n",
       "      <td>No</td>\n",
       "      <td>No</td>\n",
       "      <td>Don't know</td>\n",
       "      <td>No</td>\n",
       "      <td>NaN</td>\n",
       "    </tr>\n",
       "    <tr>\n",
       "      <th>7</th>\n",
       "      <td>2014-08-27 11:32:05</td>\n",
       "      <td>39</td>\n",
       "      <td>M</td>\n",
       "      <td>Canada</td>\n",
       "      <td>NaN</td>\n",
       "      <td>NaN</td>\n",
       "      <td>No</td>\n",
       "      <td>No</td>\n",
       "      <td>Never</td>\n",
       "      <td>1-5</td>\n",
       "      <td>...</td>\n",
       "      <td>Don't know</td>\n",
       "      <td>No</td>\n",
       "      <td>No</td>\n",
       "      <td>No</td>\n",
       "      <td>No</td>\n",
       "      <td>No</td>\n",
       "      <td>No</td>\n",
       "      <td>No</td>\n",
       "      <td>No</td>\n",
       "      <td>NaN</td>\n",
       "    </tr>\n",
       "    <tr>\n",
       "      <th>8</th>\n",
       "      <td>2014-08-27 11:32:39</td>\n",
       "      <td>42</td>\n",
       "      <td>Female</td>\n",
       "      <td>United States</td>\n",
       "      <td>IL</td>\n",
       "      <td>NaN</td>\n",
       "      <td>Yes</td>\n",
       "      <td>Yes</td>\n",
       "      <td>Sometimes</td>\n",
       "      <td>100-500</td>\n",
       "      <td>...</td>\n",
       "      <td>Very difficult</td>\n",
       "      <td>Maybe</td>\n",
       "      <td>No</td>\n",
       "      <td>Yes</td>\n",
       "      <td>Yes</td>\n",
       "      <td>No</td>\n",
       "      <td>Maybe</td>\n",
       "      <td>No</td>\n",
       "      <td>No</td>\n",
       "      <td>NaN</td>\n",
       "    </tr>\n",
       "    <tr>\n",
       "      <th>9</th>\n",
       "      <td>2014-08-27 11:32:43</td>\n",
       "      <td>23</td>\n",
       "      <td>Male</td>\n",
       "      <td>Canada</td>\n",
       "      <td>NaN</td>\n",
       "      <td>NaN</td>\n",
       "      <td>No</td>\n",
       "      <td>No</td>\n",
       "      <td>Never</td>\n",
       "      <td>26-100</td>\n",
       "      <td>...</td>\n",
       "      <td>Don't know</td>\n",
       "      <td>No</td>\n",
       "      <td>No</td>\n",
       "      <td>Yes</td>\n",
       "      <td>Yes</td>\n",
       "      <td>Maybe</td>\n",
       "      <td>Maybe</td>\n",
       "      <td>Yes</td>\n",
       "      <td>No</td>\n",
       "      <td>NaN</td>\n",
       "    </tr>\n",
       "  </tbody>\n",
       "</table>\n",
       "<p>10 rows × 27 columns</p>\n",
       "</div>"
      ],
      "text/plain": [
       "             Timestamp  Age  Gender         Country state self_employed  \\\n",
       "0  2014-08-27 11:29:31   37  Female   United States    IL           NaN   \n",
       "1  2014-08-27 11:29:37   44       M   United States    IN           NaN   \n",
       "2  2014-08-27 11:29:44   32    Male          Canada   NaN           NaN   \n",
       "3  2014-08-27 11:29:46   31    Male  United Kingdom   NaN           NaN   \n",
       "4  2014-08-27 11:30:22   31    Male   United States    TX           NaN   \n",
       "5  2014-08-27 11:31:22   33    Male   United States    TN           NaN   \n",
       "6  2014-08-27 11:31:50   35  Female   United States    MI           NaN   \n",
       "7  2014-08-27 11:32:05   39       M          Canada   NaN           NaN   \n",
       "8  2014-08-27 11:32:39   42  Female   United States    IL           NaN   \n",
       "9  2014-08-27 11:32:43   23    Male          Canada   NaN           NaN   \n",
       "\n",
       "  family_history treatment work_interfere    no_employees  ...  \\\n",
       "0             No       Yes          Often            6-25  ...   \n",
       "1             No        No         Rarely  More than 1000  ...   \n",
       "2             No        No         Rarely            6-25  ...   \n",
       "3            Yes       Yes          Often          26-100  ...   \n",
       "4             No        No          Never         100-500  ...   \n",
       "5            Yes        No      Sometimes            6-25  ...   \n",
       "6            Yes       Yes      Sometimes             1-5  ...   \n",
       "7             No        No          Never             1-5  ...   \n",
       "8            Yes       Yes      Sometimes         100-500  ...   \n",
       "9             No        No          Never          26-100  ...   \n",
       "\n",
       "                leave mental_health_consequence phys_health_consequence  \\\n",
       "0       Somewhat easy                        No                      No   \n",
       "1          Don't know                     Maybe                      No   \n",
       "2  Somewhat difficult                        No                      No   \n",
       "3  Somewhat difficult                       Yes                     Yes   \n",
       "4          Don't know                        No                      No   \n",
       "5          Don't know                        No                      No   \n",
       "6  Somewhat difficult                     Maybe                   Maybe   \n",
       "7          Don't know                        No                      No   \n",
       "8      Very difficult                     Maybe                      No   \n",
       "9          Don't know                        No                      No   \n",
       "\n",
       "      coworkers supervisor mental_health_interview phys_health_interview  \\\n",
       "0  Some of them        Yes                      No                 Maybe   \n",
       "1            No         No                      No                    No   \n",
       "2           Yes        Yes                     Yes                   Yes   \n",
       "3  Some of them         No                   Maybe                 Maybe   \n",
       "4  Some of them        Yes                     Yes                   Yes   \n",
       "5           Yes        Yes                      No                 Maybe   \n",
       "6  Some of them         No                      No                    No   \n",
       "7            No         No                      No                    No   \n",
       "8           Yes        Yes                      No                 Maybe   \n",
       "9           Yes        Yes                   Maybe                 Maybe   \n",
       "\n",
       "  mental_vs_physical obs_consequence comments  \n",
       "0                Yes              No      NaN  \n",
       "1         Don't know              No      NaN  \n",
       "2                 No              No      NaN  \n",
       "3                 No             Yes      NaN  \n",
       "4         Don't know              No      NaN  \n",
       "5         Don't know              No      NaN  \n",
       "6         Don't know              No      NaN  \n",
       "7                 No              No      NaN  \n",
       "8                 No              No      NaN  \n",
       "9                Yes              No      NaN  \n",
       "\n",
       "[10 rows x 27 columns]"
      ]
     },
     "execution_count": 328,
     "metadata": {},
     "output_type": "execute_result"
    }
   ],
   "source": [
    "survey.head(10)"
   ]
  },
  {
   "cell_type": "markdown",
   "id": "9db32af0-39ca-45cb-9407-990e279d2d33",
   "metadata": {},
   "source": [
    "## Dataset Information"
   ]
  },
  {
   "cell_type": "code",
   "execution_count": 329,
   "id": "c21cb05b-0d3e-4b23-b771-564d76a60a5e",
   "metadata": {},
   "outputs": [
    {
     "name": "stdout",
     "output_type": "stream",
     "text": [
      "<class 'pandas.core.frame.DataFrame'>\n",
      "RangeIndex: 1259 entries, 0 to 1258\n",
      "Data columns (total 27 columns):\n",
      " #   Column                     Non-Null Count  Dtype \n",
      "---  ------                     --------------  ----- \n",
      " 0   Timestamp                  1259 non-null   object\n",
      " 1   Age                        1259 non-null   int64 \n",
      " 2   Gender                     1259 non-null   object\n",
      " 3   Country                    1259 non-null   object\n",
      " 4   state                      744 non-null    object\n",
      " 5   self_employed              1241 non-null   object\n",
      " 6   family_history             1259 non-null   object\n",
      " 7   treatment                  1259 non-null   object\n",
      " 8   work_interfere             995 non-null    object\n",
      " 9   no_employees               1259 non-null   object\n",
      " 10  remote_work                1259 non-null   object\n",
      " 11  tech_company               1259 non-null   object\n",
      " 12  benefits                   1259 non-null   object\n",
      " 13  care_options               1259 non-null   object\n",
      " 14  wellness_program           1259 non-null   object\n",
      " 15  seek_help                  1259 non-null   object\n",
      " 16  anonymity                  1259 non-null   object\n",
      " 17  leave                      1259 non-null   object\n",
      " 18  mental_health_consequence  1259 non-null   object\n",
      " 19  phys_health_consequence    1259 non-null   object\n",
      " 20  coworkers                  1259 non-null   object\n",
      " 21  supervisor                 1259 non-null   object\n",
      " 22  mental_health_interview    1259 non-null   object\n",
      " 23  phys_health_interview      1259 non-null   object\n",
      " 24  mental_vs_physical         1259 non-null   object\n",
      " 25  obs_consequence            1259 non-null   object\n",
      " 26  comments                   164 non-null    object\n",
      "dtypes: int64(1), object(26)\n",
      "memory usage: 265.7+ KB\n"
     ]
    }
   ],
   "source": [
    "survey.info()"
   ]
  },
  {
   "cell_type": "markdown",
   "id": "1b38ec6a-6030-4730-b5b4-fb5be4615abf",
   "metadata": {},
   "source": [
    "## Missing Values/Null Values"
   ]
  },
  {
   "cell_type": "code",
   "execution_count": 330,
   "id": "fe3bd382-255b-4c71-b124-4768bb4e9502",
   "metadata": {},
   "outputs": [
    {
     "data": {
      "text/plain": [
       "Timestamp                       0\n",
       "Age                             0\n",
       "Gender                          0\n",
       "Country                         0\n",
       "state                         515\n",
       "self_employed                  18\n",
       "family_history                  0\n",
       "treatment                       0\n",
       "work_interfere                264\n",
       "no_employees                    0\n",
       "remote_work                     0\n",
       "tech_company                    0\n",
       "benefits                        0\n",
       "care_options                    0\n",
       "wellness_program                0\n",
       "seek_help                       0\n",
       "anonymity                       0\n",
       "leave                           0\n",
       "mental_health_consequence       0\n",
       "phys_health_consequence         0\n",
       "coworkers                       0\n",
       "supervisor                      0\n",
       "mental_health_interview         0\n",
       "phys_health_interview           0\n",
       "mental_vs_physical              0\n",
       "obs_consequence                 0\n",
       "comments                     1095\n",
       "dtype: int64"
      ]
     },
     "execution_count": 330,
     "metadata": {},
     "output_type": "execute_result"
    }
   ],
   "source": [
    "survey.isnull().sum()"
   ]
  },
  {
   "cell_type": "code",
   "execution_count": 331,
   "id": "e4b36acc-08d1-49a6-b52d-ac64e13b11e6",
   "metadata": {},
   "outputs": [],
   "source": [
    "# Filling null values with alternate text.\n",
    "\n",
    "survey['state'] = survey['state'].fillna('Unknown')\n",
    "survey['self_employed'] = survey['self_employed'].fillna('Dont know')\n",
    "survey['work_interfere'] = survey['work_interfere'].fillna('Cant say')"
   ]
  },
  {
   "cell_type": "code",
   "execution_count": 332,
   "id": "e162039a-52f4-4316-8550-abb66caa47a3",
   "metadata": {},
   "outputs": [
    {
     "data": {
      "text/html": [
       "<div>\n",
       "<style scoped>\n",
       "    .dataframe tbody tr th:only-of-type {\n",
       "        vertical-align: middle;\n",
       "    }\n",
       "\n",
       "    .dataframe tbody tr th {\n",
       "        vertical-align: top;\n",
       "    }\n",
       "\n",
       "    .dataframe thead th {\n",
       "        text-align: right;\n",
       "    }\n",
       "</style>\n",
       "<table border=\"1\" class=\"dataframe\">\n",
       "  <thead>\n",
       "    <tr style=\"text-align: right;\">\n",
       "      <th></th>\n",
       "      <th>Timestamp</th>\n",
       "      <th>Age</th>\n",
       "      <th>Gender</th>\n",
       "      <th>Country</th>\n",
       "      <th>state</th>\n",
       "      <th>self_employed</th>\n",
       "      <th>family_history</th>\n",
       "      <th>treatment</th>\n",
       "      <th>work_interfere</th>\n",
       "      <th>no_employees</th>\n",
       "      <th>...</th>\n",
       "      <th>leave</th>\n",
       "      <th>mental_health_consequence</th>\n",
       "      <th>phys_health_consequence</th>\n",
       "      <th>coworkers</th>\n",
       "      <th>supervisor</th>\n",
       "      <th>mental_health_interview</th>\n",
       "      <th>phys_health_interview</th>\n",
       "      <th>mental_vs_physical</th>\n",
       "      <th>obs_consequence</th>\n",
       "      <th>comments</th>\n",
       "    </tr>\n",
       "  </thead>\n",
       "  <tbody>\n",
       "    <tr>\n",
       "      <th>0</th>\n",
       "      <td>2014-08-27 11:29:31</td>\n",
       "      <td>37</td>\n",
       "      <td>Female</td>\n",
       "      <td>United States</td>\n",
       "      <td>IL</td>\n",
       "      <td>Dont know</td>\n",
       "      <td>No</td>\n",
       "      <td>Yes</td>\n",
       "      <td>Often</td>\n",
       "      <td>6-25</td>\n",
       "      <td>...</td>\n",
       "      <td>Somewhat easy</td>\n",
       "      <td>No</td>\n",
       "      <td>No</td>\n",
       "      <td>Some of them</td>\n",
       "      <td>Yes</td>\n",
       "      <td>No</td>\n",
       "      <td>Maybe</td>\n",
       "      <td>Yes</td>\n",
       "      <td>No</td>\n",
       "      <td>NaN</td>\n",
       "    </tr>\n",
       "    <tr>\n",
       "      <th>1</th>\n",
       "      <td>2014-08-27 11:29:37</td>\n",
       "      <td>44</td>\n",
       "      <td>M</td>\n",
       "      <td>United States</td>\n",
       "      <td>IN</td>\n",
       "      <td>Dont know</td>\n",
       "      <td>No</td>\n",
       "      <td>No</td>\n",
       "      <td>Rarely</td>\n",
       "      <td>More than 1000</td>\n",
       "      <td>...</td>\n",
       "      <td>Don't know</td>\n",
       "      <td>Maybe</td>\n",
       "      <td>No</td>\n",
       "      <td>No</td>\n",
       "      <td>No</td>\n",
       "      <td>No</td>\n",
       "      <td>No</td>\n",
       "      <td>Don't know</td>\n",
       "      <td>No</td>\n",
       "      <td>NaN</td>\n",
       "    </tr>\n",
       "    <tr>\n",
       "      <th>2</th>\n",
       "      <td>2014-08-27 11:29:44</td>\n",
       "      <td>32</td>\n",
       "      <td>Male</td>\n",
       "      <td>Canada</td>\n",
       "      <td>Unknown</td>\n",
       "      <td>Dont know</td>\n",
       "      <td>No</td>\n",
       "      <td>No</td>\n",
       "      <td>Rarely</td>\n",
       "      <td>6-25</td>\n",
       "      <td>...</td>\n",
       "      <td>Somewhat difficult</td>\n",
       "      <td>No</td>\n",
       "      <td>No</td>\n",
       "      <td>Yes</td>\n",
       "      <td>Yes</td>\n",
       "      <td>Yes</td>\n",
       "      <td>Yes</td>\n",
       "      <td>No</td>\n",
       "      <td>No</td>\n",
       "      <td>NaN</td>\n",
       "    </tr>\n",
       "    <tr>\n",
       "      <th>3</th>\n",
       "      <td>2014-08-27 11:29:46</td>\n",
       "      <td>31</td>\n",
       "      <td>Male</td>\n",
       "      <td>United Kingdom</td>\n",
       "      <td>Unknown</td>\n",
       "      <td>Dont know</td>\n",
       "      <td>Yes</td>\n",
       "      <td>Yes</td>\n",
       "      <td>Often</td>\n",
       "      <td>26-100</td>\n",
       "      <td>...</td>\n",
       "      <td>Somewhat difficult</td>\n",
       "      <td>Yes</td>\n",
       "      <td>Yes</td>\n",
       "      <td>Some of them</td>\n",
       "      <td>No</td>\n",
       "      <td>Maybe</td>\n",
       "      <td>Maybe</td>\n",
       "      <td>No</td>\n",
       "      <td>Yes</td>\n",
       "      <td>NaN</td>\n",
       "    </tr>\n",
       "    <tr>\n",
       "      <th>4</th>\n",
       "      <td>2014-08-27 11:30:22</td>\n",
       "      <td>31</td>\n",
       "      <td>Male</td>\n",
       "      <td>United States</td>\n",
       "      <td>TX</td>\n",
       "      <td>Dont know</td>\n",
       "      <td>No</td>\n",
       "      <td>No</td>\n",
       "      <td>Never</td>\n",
       "      <td>100-500</td>\n",
       "      <td>...</td>\n",
       "      <td>Don't know</td>\n",
       "      <td>No</td>\n",
       "      <td>No</td>\n",
       "      <td>Some of them</td>\n",
       "      <td>Yes</td>\n",
       "      <td>Yes</td>\n",
       "      <td>Yes</td>\n",
       "      <td>Don't know</td>\n",
       "      <td>No</td>\n",
       "      <td>NaN</td>\n",
       "    </tr>\n",
       "    <tr>\n",
       "      <th>5</th>\n",
       "      <td>2014-08-27 11:31:22</td>\n",
       "      <td>33</td>\n",
       "      <td>Male</td>\n",
       "      <td>United States</td>\n",
       "      <td>TN</td>\n",
       "      <td>Dont know</td>\n",
       "      <td>Yes</td>\n",
       "      <td>No</td>\n",
       "      <td>Sometimes</td>\n",
       "      <td>6-25</td>\n",
       "      <td>...</td>\n",
       "      <td>Don't know</td>\n",
       "      <td>No</td>\n",
       "      <td>No</td>\n",
       "      <td>Yes</td>\n",
       "      <td>Yes</td>\n",
       "      <td>No</td>\n",
       "      <td>Maybe</td>\n",
       "      <td>Don't know</td>\n",
       "      <td>No</td>\n",
       "      <td>NaN</td>\n",
       "    </tr>\n",
       "    <tr>\n",
       "      <th>6</th>\n",
       "      <td>2014-08-27 11:31:50</td>\n",
       "      <td>35</td>\n",
       "      <td>Female</td>\n",
       "      <td>United States</td>\n",
       "      <td>MI</td>\n",
       "      <td>Dont know</td>\n",
       "      <td>Yes</td>\n",
       "      <td>Yes</td>\n",
       "      <td>Sometimes</td>\n",
       "      <td>1-5</td>\n",
       "      <td>...</td>\n",
       "      <td>Somewhat difficult</td>\n",
       "      <td>Maybe</td>\n",
       "      <td>Maybe</td>\n",
       "      <td>Some of them</td>\n",
       "      <td>No</td>\n",
       "      <td>No</td>\n",
       "      <td>No</td>\n",
       "      <td>Don't know</td>\n",
       "      <td>No</td>\n",
       "      <td>NaN</td>\n",
       "    </tr>\n",
       "    <tr>\n",
       "      <th>7</th>\n",
       "      <td>2014-08-27 11:32:05</td>\n",
       "      <td>39</td>\n",
       "      <td>M</td>\n",
       "      <td>Canada</td>\n",
       "      <td>Unknown</td>\n",
       "      <td>Dont know</td>\n",
       "      <td>No</td>\n",
       "      <td>No</td>\n",
       "      <td>Never</td>\n",
       "      <td>1-5</td>\n",
       "      <td>...</td>\n",
       "      <td>Don't know</td>\n",
       "      <td>No</td>\n",
       "      <td>No</td>\n",
       "      <td>No</td>\n",
       "      <td>No</td>\n",
       "      <td>No</td>\n",
       "      <td>No</td>\n",
       "      <td>No</td>\n",
       "      <td>No</td>\n",
       "      <td>NaN</td>\n",
       "    </tr>\n",
       "    <tr>\n",
       "      <th>8</th>\n",
       "      <td>2014-08-27 11:32:39</td>\n",
       "      <td>42</td>\n",
       "      <td>Female</td>\n",
       "      <td>United States</td>\n",
       "      <td>IL</td>\n",
       "      <td>Dont know</td>\n",
       "      <td>Yes</td>\n",
       "      <td>Yes</td>\n",
       "      <td>Sometimes</td>\n",
       "      <td>100-500</td>\n",
       "      <td>...</td>\n",
       "      <td>Very difficult</td>\n",
       "      <td>Maybe</td>\n",
       "      <td>No</td>\n",
       "      <td>Yes</td>\n",
       "      <td>Yes</td>\n",
       "      <td>No</td>\n",
       "      <td>Maybe</td>\n",
       "      <td>No</td>\n",
       "      <td>No</td>\n",
       "      <td>NaN</td>\n",
       "    </tr>\n",
       "    <tr>\n",
       "      <th>9</th>\n",
       "      <td>2014-08-27 11:32:43</td>\n",
       "      <td>23</td>\n",
       "      <td>Male</td>\n",
       "      <td>Canada</td>\n",
       "      <td>Unknown</td>\n",
       "      <td>Dont know</td>\n",
       "      <td>No</td>\n",
       "      <td>No</td>\n",
       "      <td>Never</td>\n",
       "      <td>26-100</td>\n",
       "      <td>...</td>\n",
       "      <td>Don't know</td>\n",
       "      <td>No</td>\n",
       "      <td>No</td>\n",
       "      <td>Yes</td>\n",
       "      <td>Yes</td>\n",
       "      <td>Maybe</td>\n",
       "      <td>Maybe</td>\n",
       "      <td>Yes</td>\n",
       "      <td>No</td>\n",
       "      <td>NaN</td>\n",
       "    </tr>\n",
       "  </tbody>\n",
       "</table>\n",
       "<p>10 rows × 27 columns</p>\n",
       "</div>"
      ],
      "text/plain": [
       "             Timestamp  Age  Gender         Country    state self_employed  \\\n",
       "0  2014-08-27 11:29:31   37  Female   United States       IL     Dont know   \n",
       "1  2014-08-27 11:29:37   44       M   United States       IN     Dont know   \n",
       "2  2014-08-27 11:29:44   32    Male          Canada  Unknown     Dont know   \n",
       "3  2014-08-27 11:29:46   31    Male  United Kingdom  Unknown     Dont know   \n",
       "4  2014-08-27 11:30:22   31    Male   United States       TX     Dont know   \n",
       "5  2014-08-27 11:31:22   33    Male   United States       TN     Dont know   \n",
       "6  2014-08-27 11:31:50   35  Female   United States       MI     Dont know   \n",
       "7  2014-08-27 11:32:05   39       M          Canada  Unknown     Dont know   \n",
       "8  2014-08-27 11:32:39   42  Female   United States       IL     Dont know   \n",
       "9  2014-08-27 11:32:43   23    Male          Canada  Unknown     Dont know   \n",
       "\n",
       "  family_history treatment work_interfere    no_employees  ...  \\\n",
       "0             No       Yes          Often            6-25  ...   \n",
       "1             No        No         Rarely  More than 1000  ...   \n",
       "2             No        No         Rarely            6-25  ...   \n",
       "3            Yes       Yes          Often          26-100  ...   \n",
       "4             No        No          Never         100-500  ...   \n",
       "5            Yes        No      Sometimes            6-25  ...   \n",
       "6            Yes       Yes      Sometimes             1-5  ...   \n",
       "7             No        No          Never             1-5  ...   \n",
       "8            Yes       Yes      Sometimes         100-500  ...   \n",
       "9             No        No          Never          26-100  ...   \n",
       "\n",
       "                leave mental_health_consequence phys_health_consequence  \\\n",
       "0       Somewhat easy                        No                      No   \n",
       "1          Don't know                     Maybe                      No   \n",
       "2  Somewhat difficult                        No                      No   \n",
       "3  Somewhat difficult                       Yes                     Yes   \n",
       "4          Don't know                        No                      No   \n",
       "5          Don't know                        No                      No   \n",
       "6  Somewhat difficult                     Maybe                   Maybe   \n",
       "7          Don't know                        No                      No   \n",
       "8      Very difficult                     Maybe                      No   \n",
       "9          Don't know                        No                      No   \n",
       "\n",
       "      coworkers supervisor mental_health_interview phys_health_interview  \\\n",
       "0  Some of them        Yes                      No                 Maybe   \n",
       "1            No         No                      No                    No   \n",
       "2           Yes        Yes                     Yes                   Yes   \n",
       "3  Some of them         No                   Maybe                 Maybe   \n",
       "4  Some of them        Yes                     Yes                   Yes   \n",
       "5           Yes        Yes                      No                 Maybe   \n",
       "6  Some of them         No                      No                    No   \n",
       "7            No         No                      No                    No   \n",
       "8           Yes        Yes                      No                 Maybe   \n",
       "9           Yes        Yes                   Maybe                 Maybe   \n",
       "\n",
       "  mental_vs_physical obs_consequence comments  \n",
       "0                Yes              No      NaN  \n",
       "1         Don't know              No      NaN  \n",
       "2                 No              No      NaN  \n",
       "3                 No             Yes      NaN  \n",
       "4         Don't know              No      NaN  \n",
       "5         Don't know              No      NaN  \n",
       "6         Don't know              No      NaN  \n",
       "7                 No              No      NaN  \n",
       "8                 No              No      NaN  \n",
       "9                Yes              No      NaN  \n",
       "\n",
       "[10 rows x 27 columns]"
      ]
     },
     "execution_count": 332,
     "metadata": {},
     "output_type": "execute_result"
    }
   ],
   "source": [
    "survey.head(10)"
   ]
  },
  {
   "cell_type": "code",
   "execution_count": 333,
   "id": "7c36df58-5f20-4430-a697-f1c3fd891f6c",
   "metadata": {},
   "outputs": [
    {
     "data": {
      "text/html": [
       "<div>\n",
       "<style scoped>\n",
       "    .dataframe tbody tr th:only-of-type {\n",
       "        vertical-align: middle;\n",
       "    }\n",
       "\n",
       "    .dataframe tbody tr th {\n",
       "        vertical-align: top;\n",
       "    }\n",
       "\n",
       "    .dataframe thead th {\n",
       "        text-align: right;\n",
       "    }\n",
       "</style>\n",
       "<table border=\"1\" class=\"dataframe\">\n",
       "  <thead>\n",
       "    <tr style=\"text-align: right;\">\n",
       "      <th></th>\n",
       "      <th>Timestamp</th>\n",
       "      <th>Age</th>\n",
       "      <th>Gender</th>\n",
       "      <th>Country</th>\n",
       "      <th>state</th>\n",
       "      <th>self_employed</th>\n",
       "      <th>family_history</th>\n",
       "      <th>treatment</th>\n",
       "      <th>work_interfere</th>\n",
       "      <th>no_employees</th>\n",
       "      <th>...</th>\n",
       "      <th>leave</th>\n",
       "      <th>mental_health_consequence</th>\n",
       "      <th>phys_health_consequence</th>\n",
       "      <th>coworkers</th>\n",
       "      <th>supervisor</th>\n",
       "      <th>mental_health_interview</th>\n",
       "      <th>phys_health_interview</th>\n",
       "      <th>mental_vs_physical</th>\n",
       "      <th>obs_consequence</th>\n",
       "      <th>comments</th>\n",
       "    </tr>\n",
       "  </thead>\n",
       "  <tbody>\n",
       "    <tr>\n",
       "      <th>1249</th>\n",
       "      <td>2015-07-22 18:57:54</td>\n",
       "      <td>30</td>\n",
       "      <td>M</td>\n",
       "      <td>United States</td>\n",
       "      <td>CA</td>\n",
       "      <td>No</td>\n",
       "      <td>Yes</td>\n",
       "      <td>Yes</td>\n",
       "      <td>Sometimes</td>\n",
       "      <td>26-100</td>\n",
       "      <td>...</td>\n",
       "      <td>Very easy</td>\n",
       "      <td>No</td>\n",
       "      <td>No</td>\n",
       "      <td>Yes</td>\n",
       "      <td>Yes</td>\n",
       "      <td>Maybe</td>\n",
       "      <td>Maybe</td>\n",
       "      <td>Yes</td>\n",
       "      <td>No</td>\n",
       "      <td>Bipolar disorder</td>\n",
       "    </tr>\n",
       "    <tr>\n",
       "      <th>1250</th>\n",
       "      <td>2015-07-27 23:25:34</td>\n",
       "      <td>30</td>\n",
       "      <td>Male</td>\n",
       "      <td>United States</td>\n",
       "      <td>CA</td>\n",
       "      <td>Yes</td>\n",
       "      <td>Yes</td>\n",
       "      <td>Yes</td>\n",
       "      <td>Often</td>\n",
       "      <td>26-100</td>\n",
       "      <td>...</td>\n",
       "      <td>Don't know</td>\n",
       "      <td>No</td>\n",
       "      <td>No</td>\n",
       "      <td>Some of them</td>\n",
       "      <td>Yes</td>\n",
       "      <td>Maybe</td>\n",
       "      <td>Maybe</td>\n",
       "      <td>Yes</td>\n",
       "      <td>No</td>\n",
       "      <td>NaN</td>\n",
       "    </tr>\n",
       "    <tr>\n",
       "      <th>1251</th>\n",
       "      <td>2015-08-17 09:38:35</td>\n",
       "      <td>36</td>\n",
       "      <td>Male</td>\n",
       "      <td>South Africa</td>\n",
       "      <td>Unknown</td>\n",
       "      <td>No</td>\n",
       "      <td>Yes</td>\n",
       "      <td>Yes</td>\n",
       "      <td>Often</td>\n",
       "      <td>100-500</td>\n",
       "      <td>...</td>\n",
       "      <td>Somewhat easy</td>\n",
       "      <td>No</td>\n",
       "      <td>No</td>\n",
       "      <td>Some of them</td>\n",
       "      <td>Yes</td>\n",
       "      <td>No</td>\n",
       "      <td>Yes</td>\n",
       "      <td>Yes</td>\n",
       "      <td>No</td>\n",
       "      <td>NaN</td>\n",
       "    </tr>\n",
       "    <tr>\n",
       "      <th>1252</th>\n",
       "      <td>2015-08-20 16:52:09</td>\n",
       "      <td>29</td>\n",
       "      <td>male</td>\n",
       "      <td>United States</td>\n",
       "      <td>NC</td>\n",
       "      <td>No</td>\n",
       "      <td>Yes</td>\n",
       "      <td>Yes</td>\n",
       "      <td>Sometimes</td>\n",
       "      <td>100-500</td>\n",
       "      <td>...</td>\n",
       "      <td>Don't know</td>\n",
       "      <td>Yes</td>\n",
       "      <td>No</td>\n",
       "      <td>Some of them</td>\n",
       "      <td>No</td>\n",
       "      <td>No</td>\n",
       "      <td>Maybe</td>\n",
       "      <td>No</td>\n",
       "      <td>No</td>\n",
       "      <td>NaN</td>\n",
       "    </tr>\n",
       "    <tr>\n",
       "      <th>1253</th>\n",
       "      <td>2015-08-25 19:59:38</td>\n",
       "      <td>36</td>\n",
       "      <td>Male</td>\n",
       "      <td>United States</td>\n",
       "      <td>UT</td>\n",
       "      <td>No</td>\n",
       "      <td>Yes</td>\n",
       "      <td>No</td>\n",
       "      <td>Rarely</td>\n",
       "      <td>More than 1000</td>\n",
       "      <td>...</td>\n",
       "      <td>Somewhat easy</td>\n",
       "      <td>Maybe</td>\n",
       "      <td>Maybe</td>\n",
       "      <td>Some of them</td>\n",
       "      <td>Some of them</td>\n",
       "      <td>No</td>\n",
       "      <td>No</td>\n",
       "      <td>Don't know</td>\n",
       "      <td>No</td>\n",
       "      <td>NaN</td>\n",
       "    </tr>\n",
       "    <tr>\n",
       "      <th>1254</th>\n",
       "      <td>2015-09-12 11:17:21</td>\n",
       "      <td>26</td>\n",
       "      <td>male</td>\n",
       "      <td>United Kingdom</td>\n",
       "      <td>Unknown</td>\n",
       "      <td>No</td>\n",
       "      <td>No</td>\n",
       "      <td>Yes</td>\n",
       "      <td>Cant say</td>\n",
       "      <td>26-100</td>\n",
       "      <td>...</td>\n",
       "      <td>Somewhat easy</td>\n",
       "      <td>No</td>\n",
       "      <td>No</td>\n",
       "      <td>Some of them</td>\n",
       "      <td>Some of them</td>\n",
       "      <td>No</td>\n",
       "      <td>No</td>\n",
       "      <td>Don't know</td>\n",
       "      <td>No</td>\n",
       "      <td>NaN</td>\n",
       "    </tr>\n",
       "    <tr>\n",
       "      <th>1255</th>\n",
       "      <td>2015-09-26 01:07:35</td>\n",
       "      <td>32</td>\n",
       "      <td>Male</td>\n",
       "      <td>United States</td>\n",
       "      <td>IL</td>\n",
       "      <td>No</td>\n",
       "      <td>Yes</td>\n",
       "      <td>Yes</td>\n",
       "      <td>Often</td>\n",
       "      <td>26-100</td>\n",
       "      <td>...</td>\n",
       "      <td>Somewhat difficult</td>\n",
       "      <td>No</td>\n",
       "      <td>No</td>\n",
       "      <td>Some of them</td>\n",
       "      <td>Yes</td>\n",
       "      <td>No</td>\n",
       "      <td>No</td>\n",
       "      <td>Yes</td>\n",
       "      <td>No</td>\n",
       "      <td>NaN</td>\n",
       "    </tr>\n",
       "    <tr>\n",
       "      <th>1256</th>\n",
       "      <td>2015-11-07 12:36:58</td>\n",
       "      <td>34</td>\n",
       "      <td>male</td>\n",
       "      <td>United States</td>\n",
       "      <td>CA</td>\n",
       "      <td>No</td>\n",
       "      <td>Yes</td>\n",
       "      <td>Yes</td>\n",
       "      <td>Sometimes</td>\n",
       "      <td>More than 1000</td>\n",
       "      <td>...</td>\n",
       "      <td>Somewhat difficult</td>\n",
       "      <td>Yes</td>\n",
       "      <td>Yes</td>\n",
       "      <td>No</td>\n",
       "      <td>No</td>\n",
       "      <td>No</td>\n",
       "      <td>No</td>\n",
       "      <td>No</td>\n",
       "      <td>No</td>\n",
       "      <td>NaN</td>\n",
       "    </tr>\n",
       "    <tr>\n",
       "      <th>1257</th>\n",
       "      <td>2015-11-30 21:25:06</td>\n",
       "      <td>46</td>\n",
       "      <td>f</td>\n",
       "      <td>United States</td>\n",
       "      <td>NC</td>\n",
       "      <td>No</td>\n",
       "      <td>No</td>\n",
       "      <td>No</td>\n",
       "      <td>Cant say</td>\n",
       "      <td>100-500</td>\n",
       "      <td>...</td>\n",
       "      <td>Don't know</td>\n",
       "      <td>Yes</td>\n",
       "      <td>No</td>\n",
       "      <td>No</td>\n",
       "      <td>No</td>\n",
       "      <td>No</td>\n",
       "      <td>No</td>\n",
       "      <td>No</td>\n",
       "      <td>No</td>\n",
       "      <td>NaN</td>\n",
       "    </tr>\n",
       "    <tr>\n",
       "      <th>1258</th>\n",
       "      <td>2016-02-01 23:04:31</td>\n",
       "      <td>25</td>\n",
       "      <td>Male</td>\n",
       "      <td>United States</td>\n",
       "      <td>IL</td>\n",
       "      <td>No</td>\n",
       "      <td>Yes</td>\n",
       "      <td>Yes</td>\n",
       "      <td>Sometimes</td>\n",
       "      <td>26-100</td>\n",
       "      <td>...</td>\n",
       "      <td>Don't know</td>\n",
       "      <td>Maybe</td>\n",
       "      <td>No</td>\n",
       "      <td>Some of them</td>\n",
       "      <td>No</td>\n",
       "      <td>No</td>\n",
       "      <td>No</td>\n",
       "      <td>Don't know</td>\n",
       "      <td>No</td>\n",
       "      <td>NaN</td>\n",
       "    </tr>\n",
       "  </tbody>\n",
       "</table>\n",
       "<p>10 rows × 27 columns</p>\n",
       "</div>"
      ],
      "text/plain": [
       "                Timestamp  Age Gender         Country    state self_employed  \\\n",
       "1249  2015-07-22 18:57:54   30      M   United States       CA            No   \n",
       "1250  2015-07-27 23:25:34   30   Male   United States       CA           Yes   \n",
       "1251  2015-08-17 09:38:35   36   Male    South Africa  Unknown            No   \n",
       "1252  2015-08-20 16:52:09   29   male   United States       NC            No   \n",
       "1253  2015-08-25 19:59:38   36   Male   United States       UT            No   \n",
       "1254  2015-09-12 11:17:21   26   male  United Kingdom  Unknown            No   \n",
       "1255  2015-09-26 01:07:35   32   Male   United States       IL            No   \n",
       "1256  2015-11-07 12:36:58   34   male   United States       CA            No   \n",
       "1257  2015-11-30 21:25:06   46      f   United States       NC            No   \n",
       "1258  2016-02-01 23:04:31   25   Male   United States       IL            No   \n",
       "\n",
       "     family_history treatment work_interfere    no_employees  ...  \\\n",
       "1249            Yes       Yes      Sometimes          26-100  ...   \n",
       "1250            Yes       Yes          Often          26-100  ...   \n",
       "1251            Yes       Yes          Often         100-500  ...   \n",
       "1252            Yes       Yes      Sometimes         100-500  ...   \n",
       "1253            Yes        No         Rarely  More than 1000  ...   \n",
       "1254             No       Yes       Cant say          26-100  ...   \n",
       "1255            Yes       Yes          Often          26-100  ...   \n",
       "1256            Yes       Yes      Sometimes  More than 1000  ...   \n",
       "1257             No        No       Cant say         100-500  ...   \n",
       "1258            Yes       Yes      Sometimes          26-100  ...   \n",
       "\n",
       "                   leave mental_health_consequence phys_health_consequence  \\\n",
       "1249           Very easy                        No                      No   \n",
       "1250          Don't know                        No                      No   \n",
       "1251       Somewhat easy                        No                      No   \n",
       "1252          Don't know                       Yes                      No   \n",
       "1253       Somewhat easy                     Maybe                   Maybe   \n",
       "1254       Somewhat easy                        No                      No   \n",
       "1255  Somewhat difficult                        No                      No   \n",
       "1256  Somewhat difficult                       Yes                     Yes   \n",
       "1257          Don't know                       Yes                      No   \n",
       "1258          Don't know                     Maybe                      No   \n",
       "\n",
       "         coworkers    supervisor mental_health_interview  \\\n",
       "1249           Yes           Yes                   Maybe   \n",
       "1250  Some of them           Yes                   Maybe   \n",
       "1251  Some of them           Yes                      No   \n",
       "1252  Some of them            No                      No   \n",
       "1253  Some of them  Some of them                      No   \n",
       "1254  Some of them  Some of them                      No   \n",
       "1255  Some of them           Yes                      No   \n",
       "1256            No            No                      No   \n",
       "1257            No            No                      No   \n",
       "1258  Some of them            No                      No   \n",
       "\n",
       "     phys_health_interview mental_vs_physical obs_consequence  \\\n",
       "1249                 Maybe                Yes              No   \n",
       "1250                 Maybe                Yes              No   \n",
       "1251                   Yes                Yes              No   \n",
       "1252                 Maybe                 No              No   \n",
       "1253                    No         Don't know              No   \n",
       "1254                    No         Don't know              No   \n",
       "1255                    No                Yes              No   \n",
       "1256                    No                 No              No   \n",
       "1257                    No                 No              No   \n",
       "1258                    No         Don't know              No   \n",
       "\n",
       "               comments  \n",
       "1249  Bipolar disorder   \n",
       "1250                NaN  \n",
       "1251                NaN  \n",
       "1252                NaN  \n",
       "1253                NaN  \n",
       "1254                NaN  \n",
       "1255                NaN  \n",
       "1256                NaN  \n",
       "1257                NaN  \n",
       "1258                NaN  \n",
       "\n",
       "[10 rows x 27 columns]"
      ]
     },
     "execution_count": 333,
     "metadata": {},
     "output_type": "execute_result"
    }
   ],
   "source": [
    "survey.tail(10)"
   ]
  },
  {
   "cell_type": "markdown",
   "id": "9260d92b-80d5-47ea-9ef8-6e5510bda7e4",
   "metadata": {},
   "source": [
    "## ***2. Understanding data Variables***"
   ]
  },
  {
   "cell_type": "markdown",
   "id": "6f29aabf-427b-45f9-ac06-bfcbddcb3473",
   "metadata": {},
   "source": [
    "# Dataset Describe"
   ]
  },
  {
   "cell_type": "code",
   "execution_count": 334,
   "id": "58137a44-b863-4ce0-878b-4ce99c28ba92",
   "metadata": {},
   "outputs": [
    {
     "data": {
      "text/html": [
       "<div>\n",
       "<style scoped>\n",
       "    .dataframe tbody tr th:only-of-type {\n",
       "        vertical-align: middle;\n",
       "    }\n",
       "\n",
       "    .dataframe tbody tr th {\n",
       "        vertical-align: top;\n",
       "    }\n",
       "\n",
       "    .dataframe thead th {\n",
       "        text-align: right;\n",
       "    }\n",
       "</style>\n",
       "<table border=\"1\" class=\"dataframe\">\n",
       "  <thead>\n",
       "    <tr style=\"text-align: right;\">\n",
       "      <th></th>\n",
       "      <th>Age</th>\n",
       "    </tr>\n",
       "  </thead>\n",
       "  <tbody>\n",
       "    <tr>\n",
       "      <th>count</th>\n",
       "      <td>1.259000e+03</td>\n",
       "    </tr>\n",
       "    <tr>\n",
       "      <th>mean</th>\n",
       "      <td>7.942815e+07</td>\n",
       "    </tr>\n",
       "    <tr>\n",
       "      <th>std</th>\n",
       "      <td>2.818299e+09</td>\n",
       "    </tr>\n",
       "    <tr>\n",
       "      <th>min</th>\n",
       "      <td>-1.726000e+03</td>\n",
       "    </tr>\n",
       "    <tr>\n",
       "      <th>25%</th>\n",
       "      <td>2.700000e+01</td>\n",
       "    </tr>\n",
       "    <tr>\n",
       "      <th>50%</th>\n",
       "      <td>3.100000e+01</td>\n",
       "    </tr>\n",
       "    <tr>\n",
       "      <th>75%</th>\n",
       "      <td>3.600000e+01</td>\n",
       "    </tr>\n",
       "    <tr>\n",
       "      <th>max</th>\n",
       "      <td>1.000000e+11</td>\n",
       "    </tr>\n",
       "  </tbody>\n",
       "</table>\n",
       "</div>"
      ],
      "text/plain": [
       "                Age\n",
       "count  1.259000e+03\n",
       "mean   7.942815e+07\n",
       "std    2.818299e+09\n",
       "min   -1.726000e+03\n",
       "25%    2.700000e+01\n",
       "50%    3.100000e+01\n",
       "75%    3.600000e+01\n",
       "max    1.000000e+11"
      ]
     },
     "execution_count": 334,
     "metadata": {},
     "output_type": "execute_result"
    }
   ],
   "source": [
    "survey.describe()"
   ]
  },
  {
   "cell_type": "markdown",
   "id": "389918c0-4360-4d2b-8ae7-ae773cb008da",
   "metadata": {},
   "source": [
    "***Here we can see we need to clean and transform 'Age' column.***"
   ]
  },
  {
   "cell_type": "markdown",
   "id": "d2c865ce-e844-4ac3-9655-c148f8504d80",
   "metadata": {},
   "source": [
    "..."
   ]
  },
  {
   "cell_type": "markdown",
   "id": "b36f7a5f-dbfe-4044-976e-94255533bd58",
   "metadata": {},
   "source": [
    "# Dataset Columns"
   ]
  },
  {
   "cell_type": "code",
   "execution_count": 335,
   "id": "8bac6c3c-2f0f-48c5-8fb9-56aa9ea44323",
   "metadata": {},
   "outputs": [
    {
     "data": {
      "text/plain": [
       "Index(['Timestamp', 'Age', 'Gender', 'Country', 'state', 'self_employed',\n",
       "       'family_history', 'treatment', 'work_interfere', 'no_employees',\n",
       "       'remote_work', 'tech_company', 'benefits', 'care_options',\n",
       "       'wellness_program', 'seek_help', 'anonymity', 'leave',\n",
       "       'mental_health_consequence', 'phys_health_consequence', 'coworkers',\n",
       "       'supervisor', 'mental_health_interview', 'phys_health_interview',\n",
       "       'mental_vs_physical', 'obs_consequence', 'comments'],\n",
       "      dtype='object')"
      ]
     },
     "execution_count": 335,
     "metadata": {},
     "output_type": "execute_result"
    }
   ],
   "source": [
    "# Checking all the column names\n",
    "\n",
    "survey.columns"
   ]
  },
  {
   "cell_type": "markdown",
   "id": "0d9eefe8-4c74-4b5d-9f03-4da3436adebd",
   "metadata": {},
   "source": [
    "## 3. ***Data Wrangling***"
   ]
  },
  {
   "cell_type": "markdown",
   "id": "5aac0cbf-b11f-4a8b-b383-8241cb04d12d",
   "metadata": {},
   "source": [
    "From the above queries I would have to make changes in different columns. Age column shows many outliers with few negative numbers and few more than 100 years of age. I will delete those rows. I have considered the age range of 20 - 100 in the dataset.\n",
    "\n",
    "Also in Gender column, there are multiple options selected which I will have to standardize."
   ]
  },
  {
   "cell_type": "code",
   "execution_count": 336,
   "id": "fb33553f-b3c5-449b-ba12-b93d3477d6e9",
   "metadata": {},
   "outputs": [],
   "source": [
    "# Limiting Age column values \n",
    "\n",
    "survey = survey[(survey['Age'] >= 20) & (survey['Age'] <= 100)]"
   ]
  },
  {
   "cell_type": "code",
   "execution_count": 337,
   "id": "70c79bcf-df0a-495d-8a2d-32ed57a478b5",
   "metadata": {},
   "outputs": [],
   "source": [
    "# Standardizing Gender Column\n",
    "\n",
    "def clean_gender(Gender):\n",
    "    Gender = str(Gender).strip().lower()\n",
    "    if Gender in ['male','mail','maile','make','mal','malr', 'm', 'man', 'cis male','cid man', 'male-ish', 'msle']:\n",
    "        return 'Male'\n",
    "    elif Gender in ['female', 'f', 'woman','femail' 'cis female', 'femake', 'female (cis)']:\n",
    "        return 'Female'\n",
    "    else:\n",
    "        return 'Other'\n",
    "\n",
    "survey['Gender'] = survey['Gender'].apply(clean_gender)"
   ]
  },
  {
   "cell_type": "code",
   "execution_count": 338,
   "id": "b6eef98d-7f8c-45de-ab62-57a9eb3c8096",
   "metadata": {},
   "outputs": [],
   "source": [
    "# Defining valid employee range values\n",
    "\n",
    "valid_ranges = [ '26-100', '100-500', '500-1000', 'More than 1000' ]\n",
    "\n",
    "def clean_employees(value):\n",
    "    \n",
    "    if value in valid_ranges:\n",
    "        return value\n",
    "    else:\n",
    "        return 'Dont know'\n",
    "\n",
    "survey['no_employees'] = survey['no_employees'].apply(clean_employees)"
   ]
  },
  {
   "cell_type": "markdown",
   "id": "11b5c887-b5de-453a-9e08-9d6deb2d3d34",
   "metadata": {},
   "source": [
    "...."
   ]
  },
  {
   "cell_type": "markdown",
   "id": "38b7471f-d9bb-4f00-82eb-8a79e6998763",
   "metadata": {},
   "source": [
    "***Let's see if all the transformations are applied or not by checking first few rows of the dataset.***"
   ]
  },
  {
   "cell_type": "markdown",
   "id": "c7f1cc66-ad04-476b-afad-0098af42b232",
   "metadata": {},
   "source": [
    "...."
   ]
  },
  {
   "cell_type": "code",
   "execution_count": 339,
   "id": "1ce4a1db-3f87-45e9-a10f-e70bee14ae0a",
   "metadata": {},
   "outputs": [
    {
     "data": {
      "text/html": [
       "<div>\n",
       "<style scoped>\n",
       "    .dataframe tbody tr th:only-of-type {\n",
       "        vertical-align: middle;\n",
       "    }\n",
       "\n",
       "    .dataframe tbody tr th {\n",
       "        vertical-align: top;\n",
       "    }\n",
       "\n",
       "    .dataframe thead th {\n",
       "        text-align: right;\n",
       "    }\n",
       "</style>\n",
       "<table border=\"1\" class=\"dataframe\">\n",
       "  <thead>\n",
       "    <tr style=\"text-align: right;\">\n",
       "      <th></th>\n",
       "      <th>Timestamp</th>\n",
       "      <th>Age</th>\n",
       "      <th>Gender</th>\n",
       "      <th>Country</th>\n",
       "      <th>state</th>\n",
       "      <th>self_employed</th>\n",
       "      <th>family_history</th>\n",
       "      <th>treatment</th>\n",
       "      <th>work_interfere</th>\n",
       "      <th>no_employees</th>\n",
       "      <th>...</th>\n",
       "      <th>leave</th>\n",
       "      <th>mental_health_consequence</th>\n",
       "      <th>phys_health_consequence</th>\n",
       "      <th>coworkers</th>\n",
       "      <th>supervisor</th>\n",
       "      <th>mental_health_interview</th>\n",
       "      <th>phys_health_interview</th>\n",
       "      <th>mental_vs_physical</th>\n",
       "      <th>obs_consequence</th>\n",
       "      <th>comments</th>\n",
       "    </tr>\n",
       "  </thead>\n",
       "  <tbody>\n",
       "    <tr>\n",
       "      <th>0</th>\n",
       "      <td>2014-08-27 11:29:31</td>\n",
       "      <td>37</td>\n",
       "      <td>Female</td>\n",
       "      <td>United States</td>\n",
       "      <td>IL</td>\n",
       "      <td>Dont know</td>\n",
       "      <td>No</td>\n",
       "      <td>Yes</td>\n",
       "      <td>Often</td>\n",
       "      <td>Dont know</td>\n",
       "      <td>...</td>\n",
       "      <td>Somewhat easy</td>\n",
       "      <td>No</td>\n",
       "      <td>No</td>\n",
       "      <td>Some of them</td>\n",
       "      <td>Yes</td>\n",
       "      <td>No</td>\n",
       "      <td>Maybe</td>\n",
       "      <td>Yes</td>\n",
       "      <td>No</td>\n",
       "      <td>NaN</td>\n",
       "    </tr>\n",
       "    <tr>\n",
       "      <th>1</th>\n",
       "      <td>2014-08-27 11:29:37</td>\n",
       "      <td>44</td>\n",
       "      <td>Male</td>\n",
       "      <td>United States</td>\n",
       "      <td>IN</td>\n",
       "      <td>Dont know</td>\n",
       "      <td>No</td>\n",
       "      <td>No</td>\n",
       "      <td>Rarely</td>\n",
       "      <td>More than 1000</td>\n",
       "      <td>...</td>\n",
       "      <td>Don't know</td>\n",
       "      <td>Maybe</td>\n",
       "      <td>No</td>\n",
       "      <td>No</td>\n",
       "      <td>No</td>\n",
       "      <td>No</td>\n",
       "      <td>No</td>\n",
       "      <td>Don't know</td>\n",
       "      <td>No</td>\n",
       "      <td>NaN</td>\n",
       "    </tr>\n",
       "    <tr>\n",
       "      <th>2</th>\n",
       "      <td>2014-08-27 11:29:44</td>\n",
       "      <td>32</td>\n",
       "      <td>Male</td>\n",
       "      <td>Canada</td>\n",
       "      <td>Unknown</td>\n",
       "      <td>Dont know</td>\n",
       "      <td>No</td>\n",
       "      <td>No</td>\n",
       "      <td>Rarely</td>\n",
       "      <td>Dont know</td>\n",
       "      <td>...</td>\n",
       "      <td>Somewhat difficult</td>\n",
       "      <td>No</td>\n",
       "      <td>No</td>\n",
       "      <td>Yes</td>\n",
       "      <td>Yes</td>\n",
       "      <td>Yes</td>\n",
       "      <td>Yes</td>\n",
       "      <td>No</td>\n",
       "      <td>No</td>\n",
       "      <td>NaN</td>\n",
       "    </tr>\n",
       "    <tr>\n",
       "      <th>3</th>\n",
       "      <td>2014-08-27 11:29:46</td>\n",
       "      <td>31</td>\n",
       "      <td>Male</td>\n",
       "      <td>United Kingdom</td>\n",
       "      <td>Unknown</td>\n",
       "      <td>Dont know</td>\n",
       "      <td>Yes</td>\n",
       "      <td>Yes</td>\n",
       "      <td>Often</td>\n",
       "      <td>26-100</td>\n",
       "      <td>...</td>\n",
       "      <td>Somewhat difficult</td>\n",
       "      <td>Yes</td>\n",
       "      <td>Yes</td>\n",
       "      <td>Some of them</td>\n",
       "      <td>No</td>\n",
       "      <td>Maybe</td>\n",
       "      <td>Maybe</td>\n",
       "      <td>No</td>\n",
       "      <td>Yes</td>\n",
       "      <td>NaN</td>\n",
       "    </tr>\n",
       "    <tr>\n",
       "      <th>4</th>\n",
       "      <td>2014-08-27 11:30:22</td>\n",
       "      <td>31</td>\n",
       "      <td>Male</td>\n",
       "      <td>United States</td>\n",
       "      <td>TX</td>\n",
       "      <td>Dont know</td>\n",
       "      <td>No</td>\n",
       "      <td>No</td>\n",
       "      <td>Never</td>\n",
       "      <td>100-500</td>\n",
       "      <td>...</td>\n",
       "      <td>Don't know</td>\n",
       "      <td>No</td>\n",
       "      <td>No</td>\n",
       "      <td>Some of them</td>\n",
       "      <td>Yes</td>\n",
       "      <td>Yes</td>\n",
       "      <td>Yes</td>\n",
       "      <td>Don't know</td>\n",
       "      <td>No</td>\n",
       "      <td>NaN</td>\n",
       "    </tr>\n",
       "    <tr>\n",
       "      <th>5</th>\n",
       "      <td>2014-08-27 11:31:22</td>\n",
       "      <td>33</td>\n",
       "      <td>Male</td>\n",
       "      <td>United States</td>\n",
       "      <td>TN</td>\n",
       "      <td>Dont know</td>\n",
       "      <td>Yes</td>\n",
       "      <td>No</td>\n",
       "      <td>Sometimes</td>\n",
       "      <td>Dont know</td>\n",
       "      <td>...</td>\n",
       "      <td>Don't know</td>\n",
       "      <td>No</td>\n",
       "      <td>No</td>\n",
       "      <td>Yes</td>\n",
       "      <td>Yes</td>\n",
       "      <td>No</td>\n",
       "      <td>Maybe</td>\n",
       "      <td>Don't know</td>\n",
       "      <td>No</td>\n",
       "      <td>NaN</td>\n",
       "    </tr>\n",
       "    <tr>\n",
       "      <th>6</th>\n",
       "      <td>2014-08-27 11:31:50</td>\n",
       "      <td>35</td>\n",
       "      <td>Female</td>\n",
       "      <td>United States</td>\n",
       "      <td>MI</td>\n",
       "      <td>Dont know</td>\n",
       "      <td>Yes</td>\n",
       "      <td>Yes</td>\n",
       "      <td>Sometimes</td>\n",
       "      <td>Dont know</td>\n",
       "      <td>...</td>\n",
       "      <td>Somewhat difficult</td>\n",
       "      <td>Maybe</td>\n",
       "      <td>Maybe</td>\n",
       "      <td>Some of them</td>\n",
       "      <td>No</td>\n",
       "      <td>No</td>\n",
       "      <td>No</td>\n",
       "      <td>Don't know</td>\n",
       "      <td>No</td>\n",
       "      <td>NaN</td>\n",
       "    </tr>\n",
       "    <tr>\n",
       "      <th>7</th>\n",
       "      <td>2014-08-27 11:32:05</td>\n",
       "      <td>39</td>\n",
       "      <td>Male</td>\n",
       "      <td>Canada</td>\n",
       "      <td>Unknown</td>\n",
       "      <td>Dont know</td>\n",
       "      <td>No</td>\n",
       "      <td>No</td>\n",
       "      <td>Never</td>\n",
       "      <td>Dont know</td>\n",
       "      <td>...</td>\n",
       "      <td>Don't know</td>\n",
       "      <td>No</td>\n",
       "      <td>No</td>\n",
       "      <td>No</td>\n",
       "      <td>No</td>\n",
       "      <td>No</td>\n",
       "      <td>No</td>\n",
       "      <td>No</td>\n",
       "      <td>No</td>\n",
       "      <td>NaN</td>\n",
       "    </tr>\n",
       "    <tr>\n",
       "      <th>8</th>\n",
       "      <td>2014-08-27 11:32:39</td>\n",
       "      <td>42</td>\n",
       "      <td>Female</td>\n",
       "      <td>United States</td>\n",
       "      <td>IL</td>\n",
       "      <td>Dont know</td>\n",
       "      <td>Yes</td>\n",
       "      <td>Yes</td>\n",
       "      <td>Sometimes</td>\n",
       "      <td>100-500</td>\n",
       "      <td>...</td>\n",
       "      <td>Very difficult</td>\n",
       "      <td>Maybe</td>\n",
       "      <td>No</td>\n",
       "      <td>Yes</td>\n",
       "      <td>Yes</td>\n",
       "      <td>No</td>\n",
       "      <td>Maybe</td>\n",
       "      <td>No</td>\n",
       "      <td>No</td>\n",
       "      <td>NaN</td>\n",
       "    </tr>\n",
       "    <tr>\n",
       "      <th>9</th>\n",
       "      <td>2014-08-27 11:32:43</td>\n",
       "      <td>23</td>\n",
       "      <td>Male</td>\n",
       "      <td>Canada</td>\n",
       "      <td>Unknown</td>\n",
       "      <td>Dont know</td>\n",
       "      <td>No</td>\n",
       "      <td>No</td>\n",
       "      <td>Never</td>\n",
       "      <td>26-100</td>\n",
       "      <td>...</td>\n",
       "      <td>Don't know</td>\n",
       "      <td>No</td>\n",
       "      <td>No</td>\n",
       "      <td>Yes</td>\n",
       "      <td>Yes</td>\n",
       "      <td>Maybe</td>\n",
       "      <td>Maybe</td>\n",
       "      <td>Yes</td>\n",
       "      <td>No</td>\n",
       "      <td>NaN</td>\n",
       "    </tr>\n",
       "  </tbody>\n",
       "</table>\n",
       "<p>10 rows × 27 columns</p>\n",
       "</div>"
      ],
      "text/plain": [
       "             Timestamp  Age  Gender         Country    state self_employed  \\\n",
       "0  2014-08-27 11:29:31   37  Female   United States       IL     Dont know   \n",
       "1  2014-08-27 11:29:37   44    Male   United States       IN     Dont know   \n",
       "2  2014-08-27 11:29:44   32    Male          Canada  Unknown     Dont know   \n",
       "3  2014-08-27 11:29:46   31    Male  United Kingdom  Unknown     Dont know   \n",
       "4  2014-08-27 11:30:22   31    Male   United States       TX     Dont know   \n",
       "5  2014-08-27 11:31:22   33    Male   United States       TN     Dont know   \n",
       "6  2014-08-27 11:31:50   35  Female   United States       MI     Dont know   \n",
       "7  2014-08-27 11:32:05   39    Male          Canada  Unknown     Dont know   \n",
       "8  2014-08-27 11:32:39   42  Female   United States       IL     Dont know   \n",
       "9  2014-08-27 11:32:43   23    Male          Canada  Unknown     Dont know   \n",
       "\n",
       "  family_history treatment work_interfere    no_employees  ...  \\\n",
       "0             No       Yes          Often       Dont know  ...   \n",
       "1             No        No         Rarely  More than 1000  ...   \n",
       "2             No        No         Rarely       Dont know  ...   \n",
       "3            Yes       Yes          Often          26-100  ...   \n",
       "4             No        No          Never         100-500  ...   \n",
       "5            Yes        No      Sometimes       Dont know  ...   \n",
       "6            Yes       Yes      Sometimes       Dont know  ...   \n",
       "7             No        No          Never       Dont know  ...   \n",
       "8            Yes       Yes      Sometimes         100-500  ...   \n",
       "9             No        No          Never          26-100  ...   \n",
       "\n",
       "                leave mental_health_consequence phys_health_consequence  \\\n",
       "0       Somewhat easy                        No                      No   \n",
       "1          Don't know                     Maybe                      No   \n",
       "2  Somewhat difficult                        No                      No   \n",
       "3  Somewhat difficult                       Yes                     Yes   \n",
       "4          Don't know                        No                      No   \n",
       "5          Don't know                        No                      No   \n",
       "6  Somewhat difficult                     Maybe                   Maybe   \n",
       "7          Don't know                        No                      No   \n",
       "8      Very difficult                     Maybe                      No   \n",
       "9          Don't know                        No                      No   \n",
       "\n",
       "      coworkers supervisor mental_health_interview phys_health_interview  \\\n",
       "0  Some of them        Yes                      No                 Maybe   \n",
       "1            No         No                      No                    No   \n",
       "2           Yes        Yes                     Yes                   Yes   \n",
       "3  Some of them         No                   Maybe                 Maybe   \n",
       "4  Some of them        Yes                     Yes                   Yes   \n",
       "5           Yes        Yes                      No                 Maybe   \n",
       "6  Some of them         No                      No                    No   \n",
       "7            No         No                      No                    No   \n",
       "8           Yes        Yes                      No                 Maybe   \n",
       "9           Yes        Yes                   Maybe                 Maybe   \n",
       "\n",
       "  mental_vs_physical obs_consequence comments  \n",
       "0                Yes              No      NaN  \n",
       "1         Don't know              No      NaN  \n",
       "2                 No              No      NaN  \n",
       "3                 No             Yes      NaN  \n",
       "4         Don't know              No      NaN  \n",
       "5         Don't know              No      NaN  \n",
       "6         Don't know              No      NaN  \n",
       "7                 No              No      NaN  \n",
       "8                 No              No      NaN  \n",
       "9                Yes              No      NaN  \n",
       "\n",
       "[10 rows x 27 columns]"
      ]
     },
     "execution_count": 339,
     "metadata": {},
     "output_type": "execute_result"
    }
   ],
   "source": [
    "survey.head(10)"
   ]
  },
  {
   "cell_type": "markdown",
   "id": "f3aeb8ad-caaa-4765-8fc1-cc5383b63d29",
   "metadata": {},
   "source": [
    "...."
   ]
  },
  {
   "cell_type": "markdown",
   "id": "48645c7a-69b5-43c7-b48d-ed3240caf0a6",
   "metadata": {},
   "source": [
    "**Now the data is clean and Transformed. Lets start with visualization.**"
   ]
  },
  {
   "cell_type": "markdown",
   "id": "e512273b-96db-4d3e-b1e7-699ca6d9f5b9",
   "metadata": {},
   "source": [
    "...."
   ]
  },
  {
   "cell_type": "markdown",
   "id": "471af94e-f9c9-4c43-9c8c-29b524278cb6",
   "metadata": {},
   "source": [
    "## ***4. Data Visualization, Storytelling & Experimenting with charts : Understand the relationships between variables***"
   ]
  },
  {
   "cell_type": "code",
   "execution_count": 340,
   "id": "f5c3446b-91ef-405c-86c5-d2315418a6b9",
   "metadata": {},
   "outputs": [],
   "source": [
    "sns.set_palette('Set2')"
   ]
  },
  {
   "cell_type": "markdown",
   "id": "b10a9eee-5dd2-477e-bbab-4165aca3b5ab",
   "metadata": {},
   "source": [
    "#### Chart - 1"
   ]
  },
  {
   "cell_type": "code",
   "execution_count": 341,
   "id": "5fa6bd63-0785-4f8c-a12c-8ae1d676e545",
   "metadata": {},
   "outputs": [
    {
     "data": {
      "text/plain": [
       "Text(0.5, 1.0, 'Gender Distribution of Respondents')"
      ]
     },
     "execution_count": 341,
     "metadata": {},
     "output_type": "execute_result"
    },
    {
     "data": {
      "image/png": "[encoded data removed]",
      "text/plain": [
       "<Figure size 640x480 with 1 Axes>"
      ]
     },
     "metadata": {},
     "output_type": "display_data"
    }
   ],
   "source": [
    "# Chart - 1 visualization code\n",
    "\n",
    "sns.countplot(data=survey, x='Gender')\n",
    "plt.title('Gender Distribution of Respondents')"
   ]
  },
  {
   "cell_type": "markdown",
   "id": "92123c99-ecdd-4e41-9873-356a4a603847",
   "metadata": {},
   "source": [
    "##### 1. Why did you pick the specific chart?\n",
    "\n",
    "It is more convenient to understand respondent demographics and gender balance in count plot format."
   ]
  },
  {
   "cell_type": "markdown",
   "id": "8ca7d048-c416-45f1-918c-fdf03a458238",
   "metadata": {},
   "source": [
    "##### 2. What is/are the insight(s) found from the chart?\n",
    "\n",
    "From the above gragh we can see that there are more Male respondents in the survey data followed by females."
   ]
  },
  {
   "cell_type": "markdown",
   "id": "5b8b07f9-cb61-4ea3-a92f-ef4a4c3fd10f",
   "metadata": {},
   "source": [
    "##### 3. Will the gained insights help creating a positive business impact?\n",
    "\n",
    "Yes. this will help understanding which genders are more represented in the survey."
   ]
  },
  {
   "cell_type": "markdown",
   "id": "443a80ae-4a9e-4cc5-8f4e-a6d3ef5296be",
   "metadata": {},
   "source": [
    "#### Chart - 2"
   ]
  },
  {
   "cell_type": "code",
   "execution_count": 342,
   "id": "70049e8e-0a1c-44ef-b43a-dec4811ddaef",
   "metadata": {},
   "outputs": [
    {
     "data": {
      "text/plain": [
       "Text(0.5, 1.0, 'Age Distribution of Respondents')"
      ]
     },
     "execution_count": 342,
     "metadata": {},
     "output_type": "execute_result"
    },
    {
     "data": {
      "image/png": "[encoded data removed]",
      "text/plain": [
       "<Figure size 640x480 with 1 Axes>"
      ]
     },
     "metadata": {},
     "output_type": "display_data"
    }
   ],
   "source": [
    "# Chart - 2 visualization code\n",
    "\n",
    "sns.histplot(survey['Age'], bins=20, kde=True, color='green')\n",
    "plt.title('Age Distribution of Respondents')"
   ]
  },
  {
   "cell_type": "markdown",
   "id": "1787a860-e7cf-4b2c-9125-f145ea3fa8d1",
   "metadata": {},
   "source": [
    "##### 1. Why did you pick the specific chart?\n",
    "   \n",
    "It is more convenient to explore the age range and concentration of respondents using the histogram."
   ]
  },
  {
   "cell_type": "markdown",
   "id": "5b0e4eb3-34f7-4a7c-bee4-f21eb1288418",
   "metadata": {},
   "source": [
    "##### 2. What is/are the insight(s) found from the chart?\n",
    "\n",
    "This chart reveals that the age groups between 25 to 35 are most represented."
   ]
  },
  {
   "cell_type": "markdown",
   "id": "94d33f39-8d3b-48d5-8429-f2160cfcdead",
   "metadata": {},
   "source": [
    "##### 3. Will the gained insights help creating a positive business impact?\n",
    "\n",
    "Yes."
   ]
  },
  {
   "cell_type": "markdown",
   "id": "0fc3eb1d-351d-4f2c-aa27-5037b6b9f06f",
   "metadata": {},
   "source": [
    "#### Chart - 3"
   ]
  },
  {
   "cell_type": "code",
   "execution_count": 343,
   "id": "9804b1e3-4ccd-43b2-b34b-666720b00d0e",
   "metadata": {},
   "outputs": [
    {
     "data": {
      "text/plain": [
       "<matplotlib.legend.Legend at 0x2234ffe3b10>"
      ]
     },
     "execution_count": 343,
     "metadata": {},
     "output_type": "execute_result"
    },
    {
     "data": {
      "image/png": "[encoded data removed]",
      "text/plain": [
       "<Figure size 640x480 with 1 Axes>"
      ]
     },
     "metadata": {},
     "output_type": "display_data"
    }
   ],
   "source": [
    "# Chart - 3 visualization code\n",
    "\n",
    "sns.countplot(data=survey, x='Gender', hue='treatment')\n",
    "plt.title('Treatment Seeking by Gender')\n",
    "plt.legend(title='Sought Treatment')"
   ]
  },
  {
   "cell_type": "markdown",
   "id": "f6089ea3-62f4-43e4-9d19-a83d70806a8f",
   "metadata": {},
   "source": [
    "##### 1. Why did you pick the specific chart?\n",
    "\n",
    "A count plot will help in understanding how treatment seeking differs by gender."
   ]
  },
  {
   "cell_type": "markdown",
   "id": "31c12250-e96f-424d-bd39-9fa7d9c32009",
   "metadata": {},
   "source": [
    "##### 2. What is/are the insight(s) found from the chart?\n",
    "\n",
    "It is observed that more female respondents have sought treatment for mental health illness as compared to males. It is also observed that other gender respondents are also seeking treatment."
   ]
  },
  {
   "cell_type": "markdown",
   "id": "5b90810e-09bc-45a2-9dbd-1bbed8ff287e",
   "metadata": {},
   "source": [
    "##### 3. Will the gained insights help creating a positive business impact?\n",
    "\n",
    "Yes, by identifying gender differences in seeking mental health treatment."
   ]
  },
  {
   "cell_type": "markdown",
   "id": "a5697016-bc23-49f7-ad5e-9d4a4b50a9f3",
   "metadata": {},
   "source": [
    "#### Chart - 4"
   ]
  },
  {
   "cell_type": "code",
   "execution_count": 344,
   "id": "c4e94965-aa6f-4a2d-836c-77050b8290e4",
   "metadata": {},
   "outputs": [
    {
     "data": {
      "text/plain": [
       "Text(0.5, 1.0, 'Treatment Seeking vs Family History (Counts)')"
      ]
     },
     "execution_count": 344,
     "metadata": {},
     "output_type": "execute_result"
    },
    {
     "data": {
      "image/png": "[encoded data removed]",
      "text/plain": [
       "<Figure size 640x480 with 2 Axes>"
      ]
     },
     "metadata": {},
     "output_type": "display_data"
    }
   ],
   "source": [
    "# Chart - 4 visualization code\n",
    "\n",
    "heatmap_data = pd.crosstab(survey['family_history'], survey['treatment'])\n",
    "sns.heatmap(heatmap_data, annot=True, fmt='d', cmap='Greens')\n",
    "plt.xlabel('Sought Treatment')\n",
    "plt.ylabel('Family History')\n",
    "plt.title('Treatment Seeking vs Family History (Counts)')"
   ]
  },
  {
   "cell_type": "markdown",
   "id": "8785bd56-06c7-4dba-b0fd-dec017ab5218",
   "metadata": {},
   "source": [
    "##### 1. Why did you pick the specific chart?\n",
    "\n",
    "Used heatmap to analyze relationships between two categorical variables: Family history and Treatment."
   ]
  },
  {
   "cell_type": "markdown",
   "id": "8493a31d-25eb-4914-9f8e-3adcadd44d75",
   "metadata": {},
   "source": [
    "##### 2. What is/are the insight(s) found from the chart?\n",
    "\n",
    "Chart shows that those respondents who have family history of mental health illness are higher in number to seek treatment.This indicates that those with family history may be more aware and proactive.\n",
    "\n",
    "While on other hand those with no family history are very less in number to seek treatment."
   ]
  },
  {
   "cell_type": "markdown",
   "id": "2955e973-2447-49e5-95ee-b184856306fa",
   "metadata": {},
   "source": [
    "##### 3. Will the gained insights help creating a positive business impact?\n",
    "\n",
    "Yes.  family history influences seeking treatment."
   ]
  },
  {
   "cell_type": "markdown",
   "id": "313db4a8-40fb-4abd-a9b2-e38e68f1bcbd",
   "metadata": {},
   "source": [
    "#### Chart - 5"
   ]
  },
  {
   "cell_type": "code",
   "execution_count": 345,
   "id": "d39d448f-989e-4fb4-ba9f-a2d471a57b58",
   "metadata": {},
   "outputs": [
    {
     "data": {
      "text/plain": [
       "<matplotlib.legend.Legend at 0x22347f75f90>"
      ]
     },
     "execution_count": 345,
     "metadata": {},
     "output_type": "execute_result"
    },
    {
     "data": {
      "image/png": "[encoded data removed]",
      "text/plain": [
       "<Figure size 640x480 with 1 Axes>"
      ]
     },
     "metadata": {},
     "output_type": "display_data"
    }
   ],
   "source": [
    "# Chart - 5 visualization code\n",
    "\n",
    "sns.countplot(data=survey, x='remote_work', hue='work_interfere')\n",
    "plt.title('Work Interference Due to Mental Health Condition')\n",
    "plt.xlabel('Do you work remotely?')\n",
    "plt.ylabel('Count')\n",
    "plt.legend(title='Work Interference')"
   ]
  },
  {
   "cell_type": "markdown",
   "id": "7c33c966-c603-445c-b7ee-d2f4cd939c8e",
   "metadata": {},
   "source": [
    "##### 1. Why did you pick the specific chart?\n",
    "\n",
    "Column chart helps determine the how one variable varies with different categories."
   ]
  },
  {
   "cell_type": "markdown",
   "id": "dba76ed8-8920-4cf5-8fe0-e8cede76de15",
   "metadata": {},
   "source": [
    "##### 2. What is/are the insight(s) found from the chart?\n",
    "\n",
    "It can be seen from the chart that respondents who work from office are more prone to mental health issues compared to those who work remotely. A large number of the respondents feel that mental health interferes with their work sometimes."
   ]
  },
  {
   "cell_type": "markdown",
   "id": "48a98089-775b-4272-82b5-21a31cdd0ff8",
   "metadata": {},
   "source": [
    "#### Chart - 6"
   ]
  },
  {
   "cell_type": "code",
   "execution_count": 346,
   "id": "dc1d8779-f08d-44b0-b659-7f1d00c7ffc8",
   "metadata": {},
   "outputs": [
    {
     "data": {
      "text/plain": [
       "Text(0.5, 1.0, 'Tech company ?')"
      ]
     },
     "execution_count": 346,
     "metadata": {},
     "output_type": "execute_result"
    },
    {
     "data": {
      "image/png": "[encoded data removed]",
      "text/plain": [
       "<Figure size 640x480 with 1 Axes>"
      ]
     },
     "metadata": {},
     "output_type": "display_data"
    }
   ],
   "source": [
    "# Chart - 6 visualization code\n",
    "\n",
    "counts = survey['tech_company'].value_counts()\n",
    "plt.pie(counts, labels=counts.index, autopct='%1.2f%%')\n",
    "plt.title('Tech company ?')"
   ]
  },
  {
   "cell_type": "markdown",
   "id": "d2b7cdd6-9c58-4b54-9906-854a2b9a80a6",
   "metadata": {},
   "source": [
    "##### 1. Why did you pick the specific chart?\n",
    "\n",
    "Pie chart shows the distribution of categories in percentage out of total population."
   ]
  },
  {
   "cell_type": "markdown",
   "id": "4faaa4fd-fd87-4f22-b680-7880340f80b5",
   "metadata": {},
   "source": [
    "##### 2. What is/are the insight(s) found from the chart?\n",
    "\n",
    "Chart shows that 81.86% of respondents are from tech companies whereas 18.14% from non-tech."
   ]
  },
  {
   "cell_type": "markdown",
   "id": "9810af17-22ce-4335-b90f-653397a41501",
   "metadata": {},
   "source": [
    "##### 3. Will the gained insights help creating a positive business impact?\n",
    "\n",
    "No."
   ]
  },
  {
   "cell_type": "markdown",
   "id": "d29aa3c4-7084-4e65-9872-525eeb6c0146",
   "metadata": {},
   "source": [
    "#### Chart - 7"
   ]
  },
  {
   "cell_type": "code",
   "execution_count": 347,
   "id": "f6f4f420-631a-4338-80f2-48d7f0d486a5",
   "metadata": {},
   "outputs": [
    {
     "data": {
      "text/plain": [
       "Text(47.24999999999999, 0.5, 'Company provides mental health benefits ?')"
      ]
     },
     "execution_count": 347,
     "metadata": {},
     "output_type": "execute_result"
    },
    {
     "data": {
      "image/png": "[encoded data removed]",
      "text/plain": [
       "<Figure size 640x480 with 2 Axes>"
      ]
     },
     "metadata": {},
     "output_type": "display_data"
    }
   ],
   "source": [
    "# Chart - 7 visualization code\n",
    "\n",
    "heatmap_data = survey.groupby(['benefits', 'care_options'])['tech_company'].count().unstack()\n",
    "sns.heatmap(heatmap_data, annot=True, fmt='d', cmap='YlGnBu')\n",
    "plt.xlabel('Know the options for mental health care ?')\n",
    "plt.ylabel('Company provides mental health benefits ?')"
   ]
  },
  {
   "cell_type": "markdown",
   "id": "d1325a65-4f25-41e6-9077-839b553dbde1",
   "metadata": {},
   "source": [
    "##### 1. Why did you pick the specific chart?\n",
    "\n",
    "Heatmap shows distribution of values in two categories with colour coding with darkest having higher count."
   ]
  },
  {
   "attachments": {},
   "cell_type": "markdown",
   "id": "c85472d7-9a4f-4489-8f4e-a8d3bb74b3dd",
   "metadata": {},
   "source": [
    "##### 2. What is/are the insight(s) found from the chart?\n",
    "\n",
    "Chart shows that most of the companies provide mental health benefits and respondents know the options for mental health care."
   ]
  },
  {
   "cell_type": "markdown",
   "id": "ff82d44a-0e6c-448c-835e-66678008899e",
   "metadata": {},
   "source": [
    "#### Chart - 8"
   ]
  },
  {
   "cell_type": "code",
   "execution_count": 348,
   "id": "5914f423-eda6-4aa2-9d42-f29cb05aa903",
   "metadata": {},
   "outputs": [
    {
     "data": {
      "text/plain": [
       "Text(0, 0.5, 'Country')"
      ]
     },
     "execution_count": 348,
     "metadata": {},
     "output_type": "execute_result"
    },
    {
     "data": {
      "image/png": "[encoded data removed]",
      "text/plain": [
       "<Figure size 640x480 with 1 Axes>"
      ]
     },
     "metadata": {},
     "output_type": "display_data"
    }
   ],
   "source": [
    "# Chart - 8 visualization code\n",
    "\n",
    "top_countries = survey['Country'].value_counts().nlargest(10)\n",
    "sns.barplot(x=top_countries.values, y=top_countries.index)\n",
    "plt.title(\"Top 10 Countries by Response Count\")\n",
    "plt.xlabel(\"Number of Responses\")\n",
    "plt.ylabel(\"Country\")"
   ]
  },
  {
   "cell_type": "markdown",
   "id": "a9789bce-0884-4f6c-95f6-8636d013aca0",
   "metadata": {},
   "source": [
    "##### 1. Why did you pick the specific chart?\n",
    "\n",
    "Bar chart helps in understanding the category wise distribution."
   ]
  },
  {
   "cell_type": "markdown",
   "id": "551bed68-72d3-4058-b949-6fa0391325b2",
   "metadata": {},
   "source": [
    "##### 2. What is/are the insight(s) found from the chart?\n",
    "\n",
    "It is clear from the chart that highest number of respondents are from  United States followed by United Kingdom and then Canada."
   ]
  },
  {
   "cell_type": "markdown",
   "id": "c496e1a0-296b-404f-afcd-9e47f5a63091",
   "metadata": {},
   "source": [
    "##### 3. Will the gained insights help creating a positive business impact?\n",
    "\n",
    "No."
   ]
  },
  {
   "cell_type": "markdown",
   "id": "3ea1fe86-795c-4ff1-a5c2-2018a4c038c3",
   "metadata": {},
   "source": [
    "#### Chart - 9"
   ]
  },
  {
   "cell_type": "code",
   "execution_count": 349,
   "id": "bbed55de-7728-45b2-bdf9-4f8ac4403c30",
   "metadata": {},
   "outputs": [
    {
     "data": {
      "text/plain": [
       "<matplotlib.legend.Legend at 0x22350646850>"
      ]
     },
     "execution_count": 349,
     "metadata": {},
     "output_type": "execute_result"
    },
    {
     "data": {
      "image/png": "[encoded data removed]",
      "text/plain": [
       "<Figure size 640x480 with 1 Axes>"
      ]
     },
     "metadata": {},
     "output_type": "display_data"
    }
   ],
   "source": [
    "# Chart - 9 visualization code\n",
    "\n",
    "treatment_by_country = survey.groupby('Country')['treatment'].value_counts().unstack()\n",
    "treatment_by_country = treatment_by_country.loc[treatment_by_country.sum(axis=1).sort_values(ascending=False).index[:10]]\n",
    "\n",
    "treatment_by_country.plot(kind='bar', stacked=False)\n",
    "plt.title('Mental Health Treatment Rate by Country (Top 10)')\n",
    "plt.legend(title='Sought Treatment?')"
   ]
  },
  {
   "cell_type": "markdown",
   "id": "48906f92-2c02-4a51-89a4-8bfff1ba42f8",
   "metadata": {},
   "source": [
    "##### 1. Why did you pick the specific chart?\n",
    " \n",
    "Bar chart helps in comparing the category wise distribution."
   ]
  },
  {
   "cell_type": "markdown",
   "id": "d04cd0dd-d2c2-4dba-8309-926e5ab36e5b",
   "metadata": {},
   "source": [
    "##### 2. What is/are the insight(s) found from the chart?\n",
    "\n",
    "This chart shows that out of all the respondents from United States, higher number of respondents with mental health illness have sought the treatment.In United Kingdom half of respondents have taken the treatment whereas half have not."
   ]
  },
  {
   "cell_type": "markdown",
   "id": "703049f1-2663-4b14-9a5f-0158b8f9392b",
   "metadata": {},
   "source": [
    "#### Chart - 10"
   ]
  },
  {
   "cell_type": "code",
   "execution_count": 350,
   "id": "f5afb1af-e3d0-4949-a626-155b43cbaa51",
   "metadata": {},
   "outputs": [
    {
     "data": {
      "text/plain": [
       "<matplotlib.legend.Legend at 0x223506f6710>"
      ]
     },
     "execution_count": 350,
     "metadata": {},
     "output_type": "execute_result"
    },
    {
     "data": {
      "image/png": "[encoded data removed]",
      "text/plain": [
       "<Figure size 640x480 with 1 Axes>"
      ]
     },
     "metadata": {},
     "output_type": "display_data"
    }
   ],
   "source": [
    "# Chart - 10 visualization code\n",
    "\n",
    "attitude = 'mental_vs_physical'\n",
    "\n",
    "attitude_by_country = survey.groupby('Country')[attitude].value_counts().unstack()\n",
    "attitude_by_country = attitude_by_country.loc[attitude_by_country.sum(axis=1).sort_values(ascending=False).index[:10]]\n",
    "\n",
    "attitude_by_country.plot(kind='bar')\n",
    "plt.title(f'Mental Health vs physical Health : Attitude by Country (Top 10)')\n",
    "plt.xlabel('Country')\n",
    "plt.xticks(rotation=45)\n",
    "plt.legend(title='Mental health as serious as physical?')"
   ]
  },
  {
   "cell_type": "markdown",
   "id": "150e0506-0ddf-43fc-a9c0-8eb5040a66cd",
   "metadata": {},
   "source": [
    "##### 1. Why did you pick the specific chart?\n",
    "\n",
    "Bar chart helps in comparing the category wise distribution."
   ]
  },
  {
   "attachments": {},
   "cell_type": "markdown",
   "id": "c9021c81-d6a5-4f7e-94a8-f2147dc5d0b3",
   "metadata": {},
   "source": [
    "##### 2. What is/are the insight(s) found from the chart?\n",
    "\n",
    "It is clear from the chart that vey few respondents think that their employer takes mental health as seriously as physical health."
   ]
  },
  {
   "cell_type": "markdown",
   "id": "6e353e84-bbd5-447c-9e7f-88f3af4ff3f5",
   "metadata": {},
   "source": [
    "#### Chart - 11"
   ]
  },
  {
   "cell_type": "code",
   "execution_count": 351,
   "id": "d8e2bcce-c7a2-4f0f-9923-5734d839c4c6",
   "metadata": {},
   "outputs": [
    {
     "data": {
      "text/plain": [
       "Text(0.5, 1.0, 'Negative consequences of discussing physical health issues')"
      ]
     },
     "execution_count": 351,
     "metadata": {},
     "output_type": "execute_result"
    },
    {
     "data": {
      "image/png": "[encoded data removed]",
      "text/plain": [
       "<Figure size 1200x400 with 2 Axes>"
      ]
     },
     "metadata": {},
     "output_type": "display_data"
    }
   ],
   "source": [
    "# Chart - 11 visualization code\n",
    "\n",
    "data1 = survey['mental_health_consequence'].value_counts()\n",
    "data2 = survey['phys_health_consequence'].value_counts()\n",
    "\n",
    "# Creating side-by-side pie charts\n",
    "fig, axes = plt.subplots(1, 2, figsize=(12, 4))\n",
    "\n",
    "# First pie chart\n",
    "axes[0].pie(data1, labels=data1.index, autopct='%1.1f%%')\n",
    "axes[0].set_title('Negative consequences of discussing  mental health issues')\n",
    "\n",
    "# Second pie chart\n",
    "axes[1].pie(data2, labels=data2.index, autopct='%1.1f%%')\n",
    "axes[1].set_title('Negative consequences of discussing physical health issues')"
   ]
  },
  {
   "cell_type": "markdown",
   "id": "e69e5233-5272-42ea-acd9-af170a37ffa5",
   "metadata": {},
   "source": [
    "##### 1. Why did you pick the specific chart?\n",
    "\n",
    "I have used pie chart to show the proportions of respondents who agree and disagree to a particular question."
   ]
  },
  {
   "cell_type": "markdown",
   "id": "253bc542-9e68-4fdc-b8e5-51730b106df9",
   "metadata": {},
   "source": [
    "##### 2. What is/are the insight(s) found from the chart?\n",
    "\n",
    "From the abpove pie charts it is clear that 38.2% respondents said maybe and 22.9 % said that they feel that there are Negative consequences of discussing mental health issues. Also 73.6% respodents said that there is no Negative consequence of discussing physical health issues.\n",
    "\n",
    "This shows that discussing mental health issues is more difficult than physical health."
   ]
  },
  {
   "cell_type": "markdown",
   "id": "c40becf4-bd7a-47aa-8a7e-e4126cf3e390",
   "metadata": {},
   "source": [
    "#### Chart - 12"
   ]
  },
  {
   "cell_type": "code",
   "execution_count": 352,
   "id": "4ba19c78-2b49-48c9-8f6a-33d74f808736",
   "metadata": {},
   "outputs": [
    {
     "data": {
      "text/plain": [
       "Text(0, 0.5, 'Count')"
      ]
     },
     "execution_count": 352,
     "metadata": {},
     "output_type": "execute_result"
    },
    {
     "data": {
      "image/png": "[encoded data removed]",
      "text/plain": [
       "<Figure size 640x480 with 1 Axes>"
      ]
     },
     "metadata": {},
     "output_type": "display_data"
    }
   ],
   "source": [
    "# Chart - 12 visualization code\n",
    "\n",
    "sns.countplot(data=survey, x='mental_health_interview')\n",
    "plt.title('Willingness to Bring up Mental Health in Interview')\n",
    "plt.xlabel('Would Bring It Up?')\n",
    "plt.ylabel('Count')"
   ]
  },
  {
   "cell_type": "markdown",
   "id": "ec2c481c-2949-43fd-84dc-f83630d5e872",
   "metadata": {},
   "source": [
    "##### 1. Why did you pick the specific chart?\n",
    "\n",
    "Bar chart helps in comparing the category wise distribution of the data."
   ]
  },
  {
   "attachments": {},
   "cell_type": "markdown",
   "id": "fc83d8b9-be80-40f8-a1f0-7d0272801d9d",
   "metadata": {},
   "source": [
    "##### 2. What is/are the insight(s) found from the chart?\n",
    "\n",
    "Highest number of respondents dont want to bring up a mental health issue with a potential employer in an interview."
   ]
  },
  {
   "cell_type": "markdown",
   "id": "0a8201eb-3346-4ddf-aedc-e11f09fb46fe",
   "metadata": {},
   "source": [
    "#### Chart - 13"
   ]
  },
  {
   "cell_type": "code",
   "execution_count": 353,
   "id": "a0e2da29-af8c-4299-86cf-4a3dc643924a",
   "metadata": {},
   "outputs": [
    {
     "data": {
      "image/png": "[encoded data removed]",
      "text/plain": [
       "<Figure size 1000x300 with 2 Axes>"
      ]
     },
     "metadata": {},
     "output_type": "display_data"
    }
   ],
   "source": [
    "# Chart - 13 visualization code\n",
    "\n",
    "fig, axes = plt.subplots(1, 2, figsize=(10, 3))\n",
    "\n",
    "sns.countplot(data=survey, x='coworkers', ax=axes[0])\n",
    "axes[0].set_title('Willingness to Discuss Mental Health with Coworkers')\n",
    "\n",
    "sns.countplot(data=survey, x='supervisor', ax=axes[1])\n",
    "axes[1].set_title('Willingness to Discuss Mental Health with Supervisors')\n",
    "\n",
    "for ax in axes:\n",
    "    ax.set_xlabel('')\n",
    "    ax.set_ylabel('Count')"
   ]
  },
  {
   "cell_type": "markdown",
   "id": "6387a0ef-166a-4fcd-8c8c-21d20333fb73",
   "metadata": {},
   "source": [
    "##### 1. Why did you pick the specific chart?\n",
    "\n",
    "I have used count plot to visualize the frequency of observations in each category."
   ]
  },
  {
   "cell_type": "markdown",
   "id": "bd0733ab-db92-48ec-8c58-44bebd3b5af0",
   "metadata": {},
   "source": [
    "##### 2. What is/are the insight(s) found from the chart?\n",
    "\n",
    "It is clear from the chart that a large number of respondents are ready to discuss Mental Health with Supervisors, whereas relatively very less are ready to discuss with their coworkers."
   ]
  },
  {
   "cell_type": "markdown",
   "id": "5488855b-1997-4893-90cf-f5017373a23f",
   "metadata": {},
   "source": [
    "## ***5. Key Findings***"
   ]
  },
  {
   "cell_type": "markdown",
   "id": "d06f0283-3ced-44ca-a052-abb2458befb9",
   "metadata": {},
   "source": [
    "1. **Age Group:** Most respondents are aged 25–35.\n",
    "\n",
    "2. **Gender:** More male respondents, but females and other genders seek treatment more.\n",
    "\n",
    "3. **Family History:** Those with a family history of mental illness are more likely to seek treatment.\n",
    "\n",
    "4. **Work Environment:** Office workers report more mental health issues than remote workers.\n",
    "\n",
    "5. **Work Impact:** Many say mental health sometimes affects their work.\n",
    "\n",
    "6. **Industry Split:** 82% from tech, 18% from non-tech companies.\n",
    "\n",
    "7. **Benefits Awareness:** Most know about mental health benefits at work.\n",
    "\n",
    "8. **Top Countries:** Most respondents from USA, followed by UK and Canada.\n",
    "\n",
    "9. **Treatment by Country:** More people seek treatment in the USA. UK is evenly split.\n",
    "\n",
    "10. **Employer Support:** Few believe employers treat mental health as seriously as physical health.\n",
    "\n",
    "11. **Job Interviews:** Most are unwilling to discuss mental health in interviews.\n",
    "\n",
    "12. **Willingness to Talk:** More comfortable discussing mental health with supervisors than coworkers."
   ]
  },
  {
   "cell_type": "markdown",
   "id": "142528b0-2912-479b-9f12-52cc447472f0",
   "metadata": {},
   "source": [
    "## ***6. Recommendations for Organizations***"
   ]
  },
  {
   "cell_type": "markdown",
   "id": "8a936c24-133b-4e4b-8b02-5d8767bf8c9f",
   "metadata": {},
   "source": [
    "From the above insights I would suggest:\n",
    "\n",
    "\n",
    "1. **Increase mental health education and awareness, especially for employees without prior exposure.**\n",
    "\n",
    "2. **Encourage remote or hybrid work models, where feasible, to reduce mental health strain.**\n",
    "\n",
    "3. **Promote parity between mental and physical health support, both in policy and practice.**\n",
    "\n",
    "4. **Create safe spaces and channels for mental health discussions, including training for supervisors.**\n",
    "\n",
    "5. **Address stigma by actively communicating the lack of negative consequences and normalizing mental health conversations in all organizational levels.**"
   ]
  },
  {
   "cell_type": "markdown",
   "id": "40a25838-909f-4dbc-a2bb-f71e2f5181d3",
   "metadata": {},
   "source": [
    "## ***Conclusion:***\n",
    "\n",
    "This analysis provides a valuable insights into how mental health issues and attitudes toward them vary across demographics, workplace environments, and geographic locations. The data shows that while many individuals report experiencing mental health challenges, a substantial portion face barriers such as stigma, lack of resources, and fear of negative consequences when seeking help.This highlights the urgent need for better mental health support and awareness in workplaces globally. Data-driven insights like these can empower employers, HR professionals, and policymakers to design healthier, more supportive work environments for everyone."
   ]
  },
  {
   "cell_type": "code",
   "execution_count": null,
   "id": "31c6f6d2-3ada-49d5-a199-4964928c1040",
   "metadata": {},
   "outputs": [],
   "source": []
  }
 ],
 "metadata": {
  "kernelspec": {
   "display_name": "Python 3 (ipykernel)",
   "language": "python",
   "name": "python3"
  },
  "language_info": {
   "codemirror_mode": {
    "name": "ipython",
    "version": 3
   },
   "file_extension": ".py",
   "mimetype": "text/x-python",
   "name": "python",
   "nbconvert_exporter": "python",
   "pygments_lexer": "ipython3",
   "version": "3.13.5"
  }
 },
 "nbformat": 4,
 "nbformat_minor": 5
}
